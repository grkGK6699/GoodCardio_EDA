{
  "cells": [
    {
      "cell_type": "code",
      "execution_count": 43,
      "id": "f6530dda",
      "metadata": {
        "id": "f6530dda"
      },
      "outputs": [],
      "source": [
        "import numpy as np\n",
        "import pandas as pd \n",
        "import matplotlib.pyplot as plt\n",
        "import seaborn as sns\n",
        "%matplotlib inline"
      ]
    },
    {
      "cell_type": "code",
      "execution_count": 43,
      "id": "DoIulBDuylCU",
      "metadata": {
        "id": "DoIulBDuylCU"
      },
      "outputs": [],
      "source": []
    },
    {
      "cell_type": "code",
      "execution_count": 44,
      "id": "956a0f44",
      "metadata": {
        "id": "956a0f44"
      },
      "outputs": [],
      "source": [
        "df = pd.read_excel(\"CardioGoodFitness.xlsx\")"
      ]
    },
    {
      "cell_type": "code",
      "execution_count": 45,
      "id": "190a9864",
      "metadata": {
        "colab": {
          "base_uri": "https://localhost:8080/",
          "height": 206
        },
        "id": "190a9864",
        "outputId": "2a340385-fe67-4f28-8b85-8bbff159aca8"
      },
      "outputs": [
        {
          "data": {
            "text/html": [
              "\n",
              "  <div id=\"df-b84574de-785e-4896-a552-8b039bc3c44c\">\n",
              "    <div class=\"colab-df-container\">\n",
              "      <div>\n",
              "<style scoped>\n",
              "    .dataframe tbody tr th:only-of-type {\n",
              "        vertical-align: middle;\n",
              "    }\n",
              "\n",
              "    .dataframe tbody tr th {\n",
              "        vertical-align: top;\n",
              "    }\n",
              "\n",
              "    .dataframe thead th {\n",
              "        text-align: right;\n",
              "    }\n",
              "</style>\n",
              "<table border=\"1\" class=\"dataframe\">\n",
              "  <thead>\n",
              "    <tr style=\"text-align: right;\">\n",
              "      <th></th>\n",
              "      <th>Product</th>\n",
              "      <th>Age</th>\n",
              "      <th>Gender</th>\n",
              "      <th>Education</th>\n",
              "      <th>Marital Status</th>\n",
              "      <th>Usage</th>\n",
              "      <th>Fitness</th>\n",
              "      <th>Income</th>\n",
              "      <th>Miles</th>\n",
              "    </tr>\n",
              "  </thead>\n",
              "  <tbody>\n",
              "    <tr>\n",
              "      <th>0</th>\n",
              "      <td>TM195</td>\n",
              "      <td>18</td>\n",
              "      <td>Male</td>\n",
              "      <td>14</td>\n",
              "      <td>Single</td>\n",
              "      <td>3</td>\n",
              "      <td>4</td>\n",
              "      <td>29562</td>\n",
              "      <td>112.0</td>\n",
              "    </tr>\n",
              "    <tr>\n",
              "      <th>1</th>\n",
              "      <td>TM195</td>\n",
              "      <td>19</td>\n",
              "      <td>Male</td>\n",
              "      <td>15</td>\n",
              "      <td>Single</td>\n",
              "      <td>2</td>\n",
              "      <td>3</td>\n",
              "      <td>31836</td>\n",
              "      <td>75.2</td>\n",
              "    </tr>\n",
              "    <tr>\n",
              "      <th>2</th>\n",
              "      <td>TM195</td>\n",
              "      <td>19</td>\n",
              "      <td>Female</td>\n",
              "      <td>14</td>\n",
              "      <td>Partnered</td>\n",
              "      <td>4</td>\n",
              "      <td>3</td>\n",
              "      <td>30699</td>\n",
              "      <td>65.8</td>\n",
              "    </tr>\n",
              "    <tr>\n",
              "      <th>3</th>\n",
              "      <td>TM195</td>\n",
              "      <td>19</td>\n",
              "      <td>Male</td>\n",
              "      <td>12</td>\n",
              "      <td>Single</td>\n",
              "      <td>3</td>\n",
              "      <td>3</td>\n",
              "      <td>32973</td>\n",
              "      <td>84.6</td>\n",
              "    </tr>\n",
              "    <tr>\n",
              "      <th>4</th>\n",
              "      <td>TM195</td>\n",
              "      <td>20</td>\n",
              "      <td>Male</td>\n",
              "      <td>13</td>\n",
              "      <td>Partnered</td>\n",
              "      <td>4</td>\n",
              "      <td>2</td>\n",
              "      <td>35247</td>\n",
              "      <td>47.0</td>\n",
              "    </tr>\n",
              "  </tbody>\n",
              "</table>\n",
              "</div>\n",
              "      <button class=\"colab-df-convert\" onclick=\"convertToInteractive('df-b84574de-785e-4896-a552-8b039bc3c44c')\"\n",
              "              title=\"Convert this dataframe to an interactive table.\"\n",
              "              style=\"display:none;\">\n",
              "        \n",
              "  <svg xmlns=\"http://www.w3.org/2000/svg\" height=\"24px\"viewBox=\"0 0 24 24\"\n",
              "       width=\"24px\">\n",
              "    <path d=\"M0 0h24v24H0V0z\" fill=\"none\"/>\n",
              "    <path d=\"M18.56 5.44l.94 2.06.94-2.06 2.06-.94-2.06-.94-.94-2.06-.94 2.06-2.06.94zm-11 1L8.5 8.5l.94-2.06 2.06-.94-2.06-.94L8.5 2.5l-.94 2.06-2.06.94zm10 10l.94 2.06.94-2.06 2.06-.94-2.06-.94-.94-2.06-.94 2.06-2.06.94z\"/><path d=\"M17.41 7.96l-1.37-1.37c-.4-.4-.92-.59-1.43-.59-.52 0-1.04.2-1.43.59L10.3 9.45l-7.72 7.72c-.78.78-.78 2.05 0 2.83L4 21.41c.39.39.9.59 1.41.59.51 0 1.02-.2 1.41-.59l7.78-7.78 2.81-2.81c.8-.78.8-2.07 0-2.86zM5.41 20L4 18.59l7.72-7.72 1.47 1.35L5.41 20z\"/>\n",
              "  </svg>\n",
              "      </button>\n",
              "      \n",
              "  <style>\n",
              "    .colab-df-container {\n",
              "      display:flex;\n",
              "      flex-wrap:wrap;\n",
              "      gap: 12px;\n",
              "    }\n",
              "\n",
              "    .colab-df-convert {\n",
              "      background-color: #E8F0FE;\n",
              "      border: none;\n",
              "      border-radius: 50%;\n",
              "      cursor: pointer;\n",
              "      display: none;\n",
              "      fill: #1967D2;\n",
              "      height: 32px;\n",
              "      padding: 0 0 0 0;\n",
              "      width: 32px;\n",
              "    }\n",
              "\n",
              "    .colab-df-convert:hover {\n",
              "      background-color: #E2EBFA;\n",
              "      box-shadow: 0px 1px 2px rgba(60, 64, 67, 0.3), 0px 1px 3px 1px rgba(60, 64, 67, 0.15);\n",
              "      fill: #174EA6;\n",
              "    }\n",
              "\n",
              "    [theme=dark] .colab-df-convert {\n",
              "      background-color: #3B4455;\n",
              "      fill: #D2E3FC;\n",
              "    }\n",
              "\n",
              "    [theme=dark] .colab-df-convert:hover {\n",
              "      background-color: #434B5C;\n",
              "      box-shadow: 0px 1px 3px 1px rgba(0, 0, 0, 0.15);\n",
              "      filter: drop-shadow(0px 1px 2px rgba(0, 0, 0, 0.3));\n",
              "      fill: #FFFFFF;\n",
              "    }\n",
              "  </style>\n",
              "\n",
              "      <script>\n",
              "        const buttonEl =\n",
              "          document.querySelector('#df-b84574de-785e-4896-a552-8b039bc3c44c button.colab-df-convert');\n",
              "        buttonEl.style.display =\n",
              "          google.colab.kernel.accessAllowed ? 'block' : 'none';\n",
              "\n",
              "        async function convertToInteractive(key) {\n",
              "          const element = document.querySelector('#df-b84574de-785e-4896-a552-8b039bc3c44c');\n",
              "          const dataTable =\n",
              "            await google.colab.kernel.invokeFunction('convertToInteractive',\n",
              "                                                     [key], {});\n",
              "          if (!dataTable) return;\n",
              "\n",
              "          const docLinkHtml = 'Like what you see? Visit the ' +\n",
              "            '<a target=\"_blank\" href=https://colab.research.google.com/notebooks/data_table.ipynb>data table notebook</a>'\n",
              "            + ' to learn more about interactive tables.';\n",
              "          element.innerHTML = '';\n",
              "          dataTable['output_type'] = 'display_data';\n",
              "          await google.colab.output.renderOutput(dataTable, element);\n",
              "          const docLink = document.createElement('div');\n",
              "          docLink.innerHTML = docLinkHtml;\n",
              "          element.appendChild(docLink);\n",
              "        }\n",
              "      </script>\n",
              "    </div>\n",
              "  </div>\n",
              "  "
            ],
            "text/plain": [
              "  Product  Age  Gender  Education Marital Status  Usage  Fitness  Income  \\\n",
              "0   TM195   18    Male         14         Single      3        4   29562   \n",
              "1   TM195   19    Male         15         Single      2        3   31836   \n",
              "2   TM195   19  Female         14      Partnered      4        3   30699   \n",
              "3   TM195   19    Male         12         Single      3        3   32973   \n",
              "4   TM195   20    Male         13      Partnered      4        2   35247   \n",
              "\n",
              "   Miles  \n",
              "0  112.0  \n",
              "1   75.2  \n",
              "2   65.8  \n",
              "3   84.6  \n",
              "4   47.0  "
            ]
          },
          "execution_count": 45,
          "metadata": {},
          "output_type": "execute_result"
        }
      ],
      "source": [
        "df.head()"
      ]
    },
    {
      "cell_type": "code",
      "execution_count": 46,
      "id": "5f3b60ee",
      "metadata": {
        "colab": {
          "base_uri": "https://localhost:8080/",
          "height": 300
        },
        "id": "5f3b60ee",
        "outputId": "788d7eee-3631-4661-80a2-43d2a3488e60"
      },
      "outputs": [
        {
          "data": {
            "text/html": [
              "\n",
              "  <div id=\"df-be074ab7-5586-472a-b572-fc749aa383d7\">\n",
              "    <div class=\"colab-df-container\">\n",
              "      <div>\n",
              "<style scoped>\n",
              "    .dataframe tbody tr th:only-of-type {\n",
              "        vertical-align: middle;\n",
              "    }\n",
              "\n",
              "    .dataframe tbody tr th {\n",
              "        vertical-align: top;\n",
              "    }\n",
              "\n",
              "    .dataframe thead th {\n",
              "        text-align: right;\n",
              "    }\n",
              "</style>\n",
              "<table border=\"1\" class=\"dataframe\">\n",
              "  <thead>\n",
              "    <tr style=\"text-align: right;\">\n",
              "      <th></th>\n",
              "      <th>Age</th>\n",
              "      <th>Education</th>\n",
              "      <th>Usage</th>\n",
              "      <th>Fitness</th>\n",
              "      <th>Income</th>\n",
              "      <th>Miles</th>\n",
              "    </tr>\n",
              "  </thead>\n",
              "  <tbody>\n",
              "    <tr>\n",
              "      <th>count</th>\n",
              "      <td>180.000000</td>\n",
              "      <td>180.000000</td>\n",
              "      <td>180.000000</td>\n",
              "      <td>180.000000</td>\n",
              "      <td>180.000000</td>\n",
              "      <td>180.000000</td>\n",
              "    </tr>\n",
              "    <tr>\n",
              "      <th>mean</th>\n",
              "      <td>28.788889</td>\n",
              "      <td>15.572222</td>\n",
              "      <td>3.455556</td>\n",
              "      <td>3.311111</td>\n",
              "      <td>53719.577778</td>\n",
              "      <td>103.175556</td>\n",
              "    </tr>\n",
              "    <tr>\n",
              "      <th>std</th>\n",
              "      <td>6.943498</td>\n",
              "      <td>1.617055</td>\n",
              "      <td>1.084797</td>\n",
              "      <td>0.958869</td>\n",
              "      <td>16506.684226</td>\n",
              "      <td>51.864911</td>\n",
              "    </tr>\n",
              "    <tr>\n",
              "      <th>min</th>\n",
              "      <td>18.000000</td>\n",
              "      <td>12.000000</td>\n",
              "      <td>2.000000</td>\n",
              "      <td>1.000000</td>\n",
              "      <td>29562.000000</td>\n",
              "      <td>21.200000</td>\n",
              "    </tr>\n",
              "    <tr>\n",
              "      <th>25%</th>\n",
              "      <td>24.000000</td>\n",
              "      <td>14.000000</td>\n",
              "      <td>3.000000</td>\n",
              "      <td>3.000000</td>\n",
              "      <td>44058.750000</td>\n",
              "      <td>65.800000</td>\n",
              "    </tr>\n",
              "    <tr>\n",
              "      <th>50%</th>\n",
              "      <td>26.000000</td>\n",
              "      <td>16.000000</td>\n",
              "      <td>3.000000</td>\n",
              "      <td>3.000000</td>\n",
              "      <td>50596.500000</td>\n",
              "      <td>94.000000</td>\n",
              "    </tr>\n",
              "    <tr>\n",
              "      <th>75%</th>\n",
              "      <td>33.000000</td>\n",
              "      <td>16.000000</td>\n",
              "      <td>4.000000</td>\n",
              "      <td>4.000000</td>\n",
              "      <td>58668.000000</td>\n",
              "      <td>114.600000</td>\n",
              "    </tr>\n",
              "    <tr>\n",
              "      <th>max</th>\n",
              "      <td>50.000000</td>\n",
              "      <td>21.000000</td>\n",
              "      <td>7.000000</td>\n",
              "      <td>5.000000</td>\n",
              "      <td>104581.000000</td>\n",
              "      <td>360.000000</td>\n",
              "    </tr>\n",
              "  </tbody>\n",
              "</table>\n",
              "</div>\n",
              "      <button class=\"colab-df-convert\" onclick=\"convertToInteractive('df-be074ab7-5586-472a-b572-fc749aa383d7')\"\n",
              "              title=\"Convert this dataframe to an interactive table.\"\n",
              "              style=\"display:none;\">\n",
              "        \n",
              "  <svg xmlns=\"http://www.w3.org/2000/svg\" height=\"24px\"viewBox=\"0 0 24 24\"\n",
              "       width=\"24px\">\n",
              "    <path d=\"M0 0h24v24H0V0z\" fill=\"none\"/>\n",
              "    <path d=\"M18.56 5.44l.94 2.06.94-2.06 2.06-.94-2.06-.94-.94-2.06-.94 2.06-2.06.94zm-11 1L8.5 8.5l.94-2.06 2.06-.94-2.06-.94L8.5 2.5l-.94 2.06-2.06.94zm10 10l.94 2.06.94-2.06 2.06-.94-2.06-.94-.94-2.06-.94 2.06-2.06.94z\"/><path d=\"M17.41 7.96l-1.37-1.37c-.4-.4-.92-.59-1.43-.59-.52 0-1.04.2-1.43.59L10.3 9.45l-7.72 7.72c-.78.78-.78 2.05 0 2.83L4 21.41c.39.39.9.59 1.41.59.51 0 1.02-.2 1.41-.59l7.78-7.78 2.81-2.81c.8-.78.8-2.07 0-2.86zM5.41 20L4 18.59l7.72-7.72 1.47 1.35L5.41 20z\"/>\n",
              "  </svg>\n",
              "      </button>\n",
              "      \n",
              "  <style>\n",
              "    .colab-df-container {\n",
              "      display:flex;\n",
              "      flex-wrap:wrap;\n",
              "      gap: 12px;\n",
              "    }\n",
              "\n",
              "    .colab-df-convert {\n",
              "      background-color: #E8F0FE;\n",
              "      border: none;\n",
              "      border-radius: 50%;\n",
              "      cursor: pointer;\n",
              "      display: none;\n",
              "      fill: #1967D2;\n",
              "      height: 32px;\n",
              "      padding: 0 0 0 0;\n",
              "      width: 32px;\n",
              "    }\n",
              "\n",
              "    .colab-df-convert:hover {\n",
              "      background-color: #E2EBFA;\n",
              "      box-shadow: 0px 1px 2px rgba(60, 64, 67, 0.3), 0px 1px 3px 1px rgba(60, 64, 67, 0.15);\n",
              "      fill: #174EA6;\n",
              "    }\n",
              "\n",
              "    [theme=dark] .colab-df-convert {\n",
              "      background-color: #3B4455;\n",
              "      fill: #D2E3FC;\n",
              "    }\n",
              "\n",
              "    [theme=dark] .colab-df-convert:hover {\n",
              "      background-color: #434B5C;\n",
              "      box-shadow: 0px 1px 3px 1px rgba(0, 0, 0, 0.15);\n",
              "      filter: drop-shadow(0px 1px 2px rgba(0, 0, 0, 0.3));\n",
              "      fill: #FFFFFF;\n",
              "    }\n",
              "  </style>\n",
              "\n",
              "      <script>\n",
              "        const buttonEl =\n",
              "          document.querySelector('#df-be074ab7-5586-472a-b572-fc749aa383d7 button.colab-df-convert');\n",
              "        buttonEl.style.display =\n",
              "          google.colab.kernel.accessAllowed ? 'block' : 'none';\n",
              "\n",
              "        async function convertToInteractive(key) {\n",
              "          const element = document.querySelector('#df-be074ab7-5586-472a-b572-fc749aa383d7');\n",
              "          const dataTable =\n",
              "            await google.colab.kernel.invokeFunction('convertToInteractive',\n",
              "                                                     [key], {});\n",
              "          if (!dataTable) return;\n",
              "\n",
              "          const docLinkHtml = 'Like what you see? Visit the ' +\n",
              "            '<a target=\"_blank\" href=https://colab.research.google.com/notebooks/data_table.ipynb>data table notebook</a>'\n",
              "            + ' to learn more about interactive tables.';\n",
              "          element.innerHTML = '';\n",
              "          dataTable['output_type'] = 'display_data';\n",
              "          await google.colab.output.renderOutput(dataTable, element);\n",
              "          const docLink = document.createElement('div');\n",
              "          docLink.innerHTML = docLinkHtml;\n",
              "          element.appendChild(docLink);\n",
              "        }\n",
              "      </script>\n",
              "    </div>\n",
              "  </div>\n",
              "  "
            ],
            "text/plain": [
              "              Age   Education       Usage     Fitness         Income  \\\n",
              "count  180.000000  180.000000  180.000000  180.000000     180.000000   \n",
              "mean    28.788889   15.572222    3.455556    3.311111   53719.577778   \n",
              "std      6.943498    1.617055    1.084797    0.958869   16506.684226   \n",
              "min     18.000000   12.000000    2.000000    1.000000   29562.000000   \n",
              "25%     24.000000   14.000000    3.000000    3.000000   44058.750000   \n",
              "50%     26.000000   16.000000    3.000000    3.000000   50596.500000   \n",
              "75%     33.000000   16.000000    4.000000    4.000000   58668.000000   \n",
              "max     50.000000   21.000000    7.000000    5.000000  104581.000000   \n",
              "\n",
              "            Miles  \n",
              "count  180.000000  \n",
              "mean   103.175556  \n",
              "std     51.864911  \n",
              "min     21.200000  \n",
              "25%     65.800000  \n",
              "50%     94.000000  \n",
              "75%    114.600000  \n",
              "max    360.000000  "
            ]
          },
          "execution_count": 46,
          "metadata": {},
          "output_type": "execute_result"
        }
      ],
      "source": [
        "df.describe()"
      ]
    },
    {
      "cell_type": "code",
      "execution_count": 47,
      "id": "d703d60e",
      "metadata": {
        "colab": {
          "base_uri": "https://localhost:8080/"
        },
        "id": "d703d60e",
        "outputId": "113183b3-dee0-413e-a0b6-d3a20b7368f1"
      },
      "outputs": [
        {
          "data": {
            "text/plain": [
              "(180, 9)"
            ]
          },
          "execution_count": 47,
          "metadata": {},
          "output_type": "execute_result"
        }
      ],
      "source": [
        "df.shape"
      ]
    },
    {
      "cell_type": "code",
      "execution_count": 48,
      "id": "019bbea6",
      "metadata": {
        "colab": {
          "base_uri": "https://localhost:8080/"
        },
        "id": "019bbea6",
        "outputId": "a3639f4e-c953-4dae-8885-fd5069c2ecc3"
      },
      "outputs": [
        {
          "data": {
            "text/plain": [
              "Product           0\n",
              "Age               0\n",
              "Gender            0\n",
              "Education         0\n",
              "Marital Status    0\n",
              "Usage             0\n",
              "Fitness           0\n",
              "Income            0\n",
              "Miles             0\n",
              "dtype: int64"
            ]
          },
          "execution_count": 48,
          "metadata": {},
          "output_type": "execute_result"
        }
      ],
      "source": [
        "df.isna().sum()"
      ]
    },
    {
      "cell_type": "code",
      "execution_count": 49,
      "id": "3db6c9e3",
      "metadata": {
        "colab": {
          "base_uri": "https://localhost:8080/",
          "height": 837
        },
        "id": "3db6c9e3",
        "outputId": "65d2d51c-7eda-4806-d1ae-4cd64b8dae95"
      },
      "outputs": [
        {
          "data": {
            "text/plain": [
              "array([[<matplotlib.axes._subplots.AxesSubplot object at 0x7feef4212c70>,\n",
              "        <matplotlib.axes._subplots.AxesSubplot object at 0x7feef4410670>],\n",
              "       [<matplotlib.axes._subplots.AxesSubplot object at 0x7feef4408fd0>,\n",
              "        <matplotlib.axes._subplots.AxesSubplot object at 0x7feef41d3730>],\n",
              "       [<matplotlib.axes._subplots.AxesSubplot object at 0x7feef4200e50>,\n",
              "        <matplotlib.axes._subplots.AxesSubplot object at 0x7feef41a74f0>]],\n",
              "      dtype=object)"
            ]
          },
          "execution_count": 49,
          "metadata": {},
          "output_type": "execute_result"
        },
        {
          "data": {
            "image/png": "[encoded data removed]",
            "text/plain": [
              "<Figure size 720x864 with 6 Axes>"
            ]
          },
          "metadata": {
            "needs_background": "light"
          },
          "output_type": "display_data"
        }
      ],
      "source": [
        "df.hist(figsize=(10,12))"
      ]
    },
    {
      "cell_type": "code",
      "execution_count": 50,
      "id": "cd13919b",
      "metadata": {
        "colab": {
          "base_uri": "https://localhost:8080/"
        },
        "id": "cd13919b",
        "outputId": "d9ecaf43-e9ee-441e-f9a7-672d26e355b7"
      },
      "outputs": [
        {
          "name": "stdout",
          "output_type": "stream",
          "text": [
            "Gender   Female  Male\n",
            "Product              \n",
            "TM195        40    40\n",
            "TM498        29    31\n",
            "TM798         7    33 \n",
            " Marital Status  Partnered  Single\n",
            "Product                          \n",
            "TM195                  48      32\n",
            "TM498                  36      24\n",
            "TM798                  23      17\n"
          ]
        }
      ],
      "source": [
        "print(pd.crosstab(df['Product'],df['Gender'] ),'\\n',\n",
        "pd.crosstab(df['Product'],df['Marital Status'] ))"
      ]
    },
    {
      "cell_type": "code",
      "execution_count": 51,
      "id": "177fa586",
      "metadata": {
        "colab": {
          "base_uri": "https://localhost:8080/",
          "height": 279
        },
        "id": "177fa586",
        "outputId": "12949897-2917-40de-d385-28ef0b796436"
      },
      "outputs": [
        {
          "data": {
            "image/png": "[encoded data removed]",
            "text/plain": [
              "<Figure size 432x288 with 6 Axes>"
            ]
          },
          "metadata": {
            "needs_background": "light"
          },
          "output_type": "display_data"
        }
      ],
      "source": [
        "l=1\n",
        "num_col=['Age','Education','Usage','Fitness','Income','Miles']\n",
        "for i in num_col:\n",
        "    plt.subplot(3,2,l)\n",
        "    sns.boxenplot(x='Gender',y=i ,data=df)\n",
        "    l=l+1\n"
      ]
    },
    {
      "cell_type": "code",
      "execution_count": 52,
      "id": "88a4f7c9",
      "metadata": {
        "colab": {
          "base_uri": "https://localhost:8080/"
        },
        "id": "88a4f7c9",
        "outputId": "446bf6ad-8295-4678-e7bd-83a7a0830e9d"
      },
      "outputs": [
        {
          "data": {
            "text/plain": [
              "28.788888888888888"
            ]
          },
          "execution_count": 52,
          "metadata": {},
          "output_type": "execute_result"
        }
      ],
      "source": [
        "df['Age'].mean()"
      ]
    },
    {
      "cell_type": "code",
      "execution_count": 53,
      "id": "f4de1cb9",
      "metadata": {
        "colab": {
          "base_uri": "https://localhost:8080/",
          "height": 351
        },
        "id": "f4de1cb9",
        "outputId": "18f66380-e9b8-4ca5-a841-e088a04894b1"
      },
      "outputs": [
        {
          "name": "stderr",
          "output_type": "stream",
          "text": [
            "/usr/local/lib/python3.8/dist-packages/seaborn/distributions.py:2619: FutureWarning: `distplot` is a deprecated function and will be removed in a future version. Please adapt your code to use either `displot` (a figure-level function with similar flexibility) or `histplot` (an axes-level function for histograms).\n",
            "  warnings.warn(msg, FutureWarning)\n"
          ]
        },
        {
          "data": {
            "text/plain": [
              "<matplotlib.axes._subplots.AxesSubplot at 0x7feef3f26d00>"
            ]
          },
          "execution_count": 53,
          "metadata": {},
          "output_type": "execute_result"
        },
        {
          "data": {
            "image/png": "[encoded data removed]",
            "text/plain": [
              "<Figure size 432x288 with 1 Axes>"
            ]
          },
          "metadata": {
            "needs_background": "light"
          },
          "output_type": "display_data"
        }
      ],
      "source": [
        "sns.distplot(df['Age'])"
      ]
    },
    {
      "cell_type": "code",
      "execution_count": 54,
      "id": "69ebf77a",
      "metadata": {
        "colab": {
          "base_uri": "https://localhost:8080/",
          "height": 1000
        },
        "id": "69ebf77a",
        "outputId": "8e7d5b99-c6b7-40ab-d863-13c1fcd5fa49"
      },
      "outputs": [
        {
          "data": {
            "text/plain": [
              "<seaborn.axisgrid.PairGrid at 0x7feef3e12d30>"
            ]
          },
          "execution_count": 54,
          "metadata": {},
          "output_type": "execute_result"
        },
        {
          "data": {
            "image/png": "[encoded data removed]",
            "text/plain": [
              "<Figure size 1080x1080 with 42 Axes>"
            ]
          },
          "metadata": {
            "needs_background": "light"
          },
          "output_type": "display_data"
        }
      ],
      "source": [
        "sns.pairplot(df)"
      ]
    },
    {
      "cell_type": "code",
      "execution_count": 55,
      "id": "9602adc7",
      "metadata": {
        "colab": {
          "base_uri": "https://localhost:8080/",
          "height": 237
        },
        "id": "9602adc7",
        "outputId": "012c3681-447c-4803-9c60-80684a684808"
      },
      "outputs": [
        {
          "data": {
            "text/html": [
              "\n",
              "  <div id=\"df-90edbd94-4386-486d-bd95-5fdd32a4720f\">\n",
              "    <div class=\"colab-df-container\">\n",
              "      <div>\n",
              "<style scoped>\n",
              "    .dataframe tbody tr th:only-of-type {\n",
              "        vertical-align: middle;\n",
              "    }\n",
              "\n",
              "    .dataframe tbody tr th {\n",
              "        vertical-align: top;\n",
              "    }\n",
              "\n",
              "    .dataframe thead th {\n",
              "        text-align: right;\n",
              "    }\n",
              "</style>\n",
              "<table border=\"1\" class=\"dataframe\">\n",
              "  <thead>\n",
              "    <tr style=\"text-align: right;\">\n",
              "      <th></th>\n",
              "      <th>Age</th>\n",
              "      <th>Education</th>\n",
              "      <th>Usage</th>\n",
              "      <th>Fitness</th>\n",
              "      <th>Income</th>\n",
              "      <th>Miles</th>\n",
              "    </tr>\n",
              "  </thead>\n",
              "  <tbody>\n",
              "    <tr>\n",
              "      <th>Age</th>\n",
              "      <td>1.000000</td>\n",
              "      <td>0.280496</td>\n",
              "      <td>0.015064</td>\n",
              "      <td>0.061105</td>\n",
              "      <td>0.513414</td>\n",
              "      <td>0.036658</td>\n",
              "    </tr>\n",
              "    <tr>\n",
              "      <th>Education</th>\n",
              "      <td>0.280496</td>\n",
              "      <td>1.000000</td>\n",
              "      <td>0.395155</td>\n",
              "      <td>0.410581</td>\n",
              "      <td>0.625827</td>\n",
              "      <td>0.307393</td>\n",
              "    </tr>\n",
              "    <tr>\n",
              "      <th>Usage</th>\n",
              "      <td>0.015064</td>\n",
              "      <td>0.395155</td>\n",
              "      <td>1.000000</td>\n",
              "      <td>0.668606</td>\n",
              "      <td>0.519537</td>\n",
              "      <td>0.759106</td>\n",
              "    </tr>\n",
              "    <tr>\n",
              "      <th>Fitness</th>\n",
              "      <td>0.061105</td>\n",
              "      <td>0.410581</td>\n",
              "      <td>0.668606</td>\n",
              "      <td>1.000000</td>\n",
              "      <td>0.535005</td>\n",
              "      <td>0.785733</td>\n",
              "    </tr>\n",
              "    <tr>\n",
              "      <th>Income</th>\n",
              "      <td>0.513414</td>\n",
              "      <td>0.625827</td>\n",
              "      <td>0.519537</td>\n",
              "      <td>0.535005</td>\n",
              "      <td>1.000000</td>\n",
              "      <td>0.543696</td>\n",
              "    </tr>\n",
              "    <tr>\n",
              "      <th>Miles</th>\n",
              "      <td>0.036658</td>\n",
              "      <td>0.307393</td>\n",
              "      <td>0.759106</td>\n",
              "      <td>0.785733</td>\n",
              "      <td>0.543696</td>\n",
              "      <td>1.000000</td>\n",
              "    </tr>\n",
              "  </tbody>\n",
              "</table>\n",
              "</div>\n",
              "      <button class=\"colab-df-convert\" onclick=\"convertToInteractive('df-90edbd94-4386-486d-bd95-5fdd32a4720f')\"\n",
              "              title=\"Convert this dataframe to an interactive table.\"\n",
              "              style=\"display:none;\">\n",
              "        \n",
              "  <svg xmlns=\"http://www.w3.org/2000/svg\" height=\"24px\"viewBox=\"0 0 24 24\"\n",
              "       width=\"24px\">\n",
              "    <path d=\"M0 0h24v24H0V0z\" fill=\"none\"/>\n",
              "    <path d=\"M18.56 5.44l.94 2.06.94-2.06 2.06-.94-2.06-.94-.94-2.06-.94 2.06-2.06.94zm-11 1L8.5 8.5l.94-2.06 2.06-.94-2.06-.94L8.5 2.5l-.94 2.06-2.06.94zm10 10l.94 2.06.94-2.06 2.06-.94-2.06-.94-.94-2.06-.94 2.06-2.06.94z\"/><path d=\"M17.41 7.96l-1.37-1.37c-.4-.4-.92-.59-1.43-.59-.52 0-1.04.2-1.43.59L10.3 9.45l-7.72 7.72c-.78.78-.78 2.05 0 2.83L4 21.41c.39.39.9.59 1.41.59.51 0 1.02-.2 1.41-.59l7.78-7.78 2.81-2.81c.8-.78.8-2.07 0-2.86zM5.41 20L4 18.59l7.72-7.72 1.47 1.35L5.41 20z\"/>\n",
              "  </svg>\n",
              "      </button>\n",
              "      \n",
              "  <style>\n",
              "    .colab-df-container {\n",
              "      display:flex;\n",
              "      flex-wrap:wrap;\n",
              "      gap: 12px;\n",
              "    }\n",
              "\n",
              "    .colab-df-convert {\n",
              "      background-color: #E8F0FE;\n",
              "      border: none;\n",
              "      border-radius: 50%;\n",
              "      cursor: pointer;\n",
              "      display: none;\n",
              "      fill: #1967D2;\n",
              "      height: 32px;\n",
              "      padding: 0 0 0 0;\n",
              "      width: 32px;\n",
              "    }\n",
              "\n",
              "    .colab-df-convert:hover {\n",
              "      background-color: #E2EBFA;\n",
              "      box-shadow: 0px 1px 2px rgba(60, 64, 67, 0.3), 0px 1px 3px 1px rgba(60, 64, 67, 0.15);\n",
              "      fill: #174EA6;\n",
              "    }\n",
              "\n",
              "    [theme=dark] .colab-df-convert {\n",
              "      background-color: #3B4455;\n",
              "      fill: #D2E3FC;\n",
              "    }\n",
              "\n",
              "    [theme=dark] .colab-df-convert:hover {\n",
              "      background-color: #434B5C;\n",
              "      box-shadow: 0px 1px 3px 1px rgba(0, 0, 0, 0.15);\n",
              "      filter: drop-shadow(0px 1px 2px rgba(0, 0, 0, 0.3));\n",
              "      fill: #FFFFFF;\n",
              "    }\n",
              "  </style>\n",
              "\n",
              "      <script>\n",
              "        const buttonEl =\n",
              "          document.querySelector('#df-90edbd94-4386-486d-bd95-5fdd32a4720f button.colab-df-convert');\n",
              "        buttonEl.style.display =\n",
              "          google.colab.kernel.accessAllowed ? 'block' : 'none';\n",
              "\n",
              "        async function convertToInteractive(key) {\n",
              "          const element = document.querySelector('#df-90edbd94-4386-486d-bd95-5fdd32a4720f');\n",
              "          const dataTable =\n",
              "            await google.colab.kernel.invokeFunction('convertToInteractive',\n",
              "                                                     [key], {});\n",
              "          if (!dataTable) return;\n",
              "\n",
              "          const docLinkHtml = 'Like what you see? Visit the ' +\n",
              "            '<a target=\"_blank\" href=https://colab.research.google.com/notebooks/data_table.ipynb>data table notebook</a>'\n",
              "            + ' to learn more about interactive tables.';\n",
              "          element.innerHTML = '';\n",
              "          dataTable['output_type'] = 'display_data';\n",
              "          await google.colab.output.renderOutput(dataTable, element);\n",
              "          const docLink = document.createElement('div');\n",
              "          docLink.innerHTML = docLinkHtml;\n",
              "          element.appendChild(docLink);\n",
              "        }\n",
              "      </script>\n",
              "    </div>\n",
              "  </div>\n",
              "  "
            ],
            "text/plain": [
              "                Age  Education     Usage   Fitness    Income     Miles\n",
              "Age        1.000000   0.280496  0.015064  0.061105  0.513414  0.036658\n",
              "Education  0.280496   1.000000  0.395155  0.410581  0.625827  0.307393\n",
              "Usage      0.015064   0.395155  1.000000  0.668606  0.519537  0.759106\n",
              "Fitness    0.061105   0.410581  0.668606  1.000000  0.535005  0.785733\n",
              "Income     0.513414   0.625827  0.519537  0.535005  1.000000  0.543696\n",
              "Miles      0.036658   0.307393  0.759106  0.785733  0.543696  1.000000"
            ]
          },
          "execution_count": 55,
          "metadata": {},
          "output_type": "execute_result"
        }
      ],
      "source": [
        "corr=df.corr()\n",
        "corr"
      ]
    },
    {
      "cell_type": "code",
      "execution_count": 56,
      "id": "1e286f13",
      "metadata": {
        "colab": {
          "base_uri": "https://localhost:8080/",
          "height": 286
        },
        "id": "1e286f13",
        "outputId": "c0965148-e1cd-4718-afbd-0cef49d11fcb"
      },
      "outputs": [
        {
          "data": {
            "text/plain": [
              "<matplotlib.axes._subplots.AxesSubplot at 0x7feef36997c0>"
            ]
          },
          "execution_count": 56,
          "metadata": {},
          "output_type": "execute_result"
        },
        {
          "data": {
            "image/png": "[encoded data removed]",
            "text/plain": [
              "<Figure size 432x288 with 2 Axes>"
            ]
          },
          "metadata": {
            "needs_background": "light"
          },
          "output_type": "display_data"
        }
      ],
      "source": [
        "sns.heatmap(corr,annot=True)"
      ]
    },
    {
      "cell_type": "code",
      "execution_count": 57,
      "id": "f91ef34c",
      "metadata": {
        "colab": {
          "base_uri": "https://localhost:8080/",
          "height": 279
        },
        "id": "f91ef34c",
        "outputId": "38a3c9d6-422a-4774-c1f4-6c7fefa2e68c"
      },
      "outputs": [
        {
          "data": {
            "image/png": "[encoded data removed]",
            "text/plain": [
              "<Figure size 432x288 with 1 Axes>"
            ]
          },
          "metadata": {
            "needs_background": "light"
          },
          "output_type": "display_data"
        }
      ],
      "source": [
        "sns.scatterplot(x='Age', y='Income',data= df, hue = 'Product')\n",
        "plt.show()"
      ]
    },
    {
      "cell_type": "code",
      "execution_count": 58,
      "id": "c56f90e0",
      "metadata": {
        "colab": {
          "base_uri": "https://localhost:8080/",
          "height": 296
        },
        "id": "c56f90e0",
        "outputId": "2b07fda0-90cb-47be-8507-907fe38a064b"
      },
      "outputs": [
        {
          "data": {
            "text/plain": [
              "<matplotlib.axes._subplots.AxesSubplot at 0x7feef3478d30>"
            ]
          },
          "execution_count": 58,
          "metadata": {},
          "output_type": "execute_result"
        },
        {
          "data": {
            "image/png": "[encoded data removed]",
            "text/plain": [
              "<Figure size 432x288 with 1 Axes>"
            ]
          },
          "metadata": {
            "needs_background": "light"
          },
          "output_type": "display_data"
        }
      ],
      "source": [
        "sns.countplot(x='Product',hue='Gender',data=df)"
      ]
    },
    {
      "cell_type": "code",
      "execution_count": 59,
      "id": "54ca5f8e",
      "metadata": {
        "colab": {
          "base_uri": "https://localhost:8080/",
          "height": 299
        },
        "id": "54ca5f8e",
        "outputId": "c7b6257c-6ace-47ec-94b9-b76a0b43c08e"
      },
      "outputs": [
        {
          "data": {
            "text/plain": [
              "<matplotlib.axes._subplots.AxesSubplot at 0x7feef33dfe50>"
            ]
          },
          "execution_count": 59,
          "metadata": {},
          "output_type": "execute_result"
        },
        {
          "data": {
            "image/png": "[encoded data removed]",
            "text/plain": [
              "<Figure size 432x288 with 1 Axes>"
            ]
          },
          "metadata": {
            "needs_background": "light"
          },
          "output_type": "display_data"
        }
      ],
      "source": [
        "sns.countplot(x='Product',hue='Marital Status',data=df)"
      ]
    },
    {
      "attachments": {},
      "cell_type": "markdown",
      "id": "8f5401a4",
      "metadata": {
        "id": "8f5401a4"
      },
      "source": [
        "### Product Analysis"
      ]
    },
    {
      "cell_type": "code",
      "execution_count": 60,
      "id": "39708d31",
      "metadata": {
        "colab": {
          "base_uri": "https://localhost:8080/"
        },
        "id": "39708d31",
        "outputId": "2fda2be6-1f0f-4178-86a9-b5407fdc2639"
      },
      "outputs": [
        {
          "data": {
            "text/plain": [
              "['TM195', 'TM498', 'TM798']"
            ]
          },
          "execution_count": 60,
          "metadata": {},
          "output_type": "execute_result"
        }
      ],
      "source": [
        "list(df['Product'].unique())"
      ]
    },
    {
      "cell_type": "code",
      "execution_count": 61,
      "id": "7b5351ff",
      "metadata": {
        "id": "7b5351ff"
      },
      "outputs": [],
      "source": [
        "df_Product_TM195 = df[df['Product']=='TM195']\n",
        "df_Product_TM498 = df[df['Product']=='TM498']\n",
        "df_Product_TM798 = df[df['Product']=='TM798']"
      ]
    },
    {
      "cell_type": "code",
      "execution_count": 62,
      "id": "fa10fe2e",
      "metadata": {
        "colab": {
          "base_uri": "https://localhost:8080/",
          "height": 206
        },
        "id": "fa10fe2e",
        "outputId": "fd05ef9b-1a27-4edc-ce43-c3f746b693b9"
      },
      "outputs": [
        {
          "data": {
            "text/html": [
              "\n",
              "  <div id=\"df-233012ab-2479-4862-8da6-b5127e29da6a\">\n",
              "    <div class=\"colab-df-container\">\n",
              "      <div>\n",
              "<style scoped>\n",
              "    .dataframe tbody tr th:only-of-type {\n",
              "        vertical-align: middle;\n",
              "    }\n",
              "\n",
              "    .dataframe tbody tr th {\n",
              "        vertical-align: top;\n",
              "    }\n",
              "\n",
              "    .dataframe thead th {\n",
              "        text-align: right;\n",
              "    }\n",
              "</style>\n",
              "<table border=\"1\" class=\"dataframe\">\n",
              "  <thead>\n",
              "    <tr style=\"text-align: right;\">\n",
              "      <th></th>\n",
              "      <th>Product</th>\n",
              "      <th>Age</th>\n",
              "      <th>Gender</th>\n",
              "      <th>Education</th>\n",
              "      <th>Marital Status</th>\n",
              "      <th>Usage</th>\n",
              "      <th>Fitness</th>\n",
              "      <th>Income</th>\n",
              "      <th>Miles</th>\n",
              "    </tr>\n",
              "  </thead>\n",
              "  <tbody>\n",
              "    <tr>\n",
              "      <th>0</th>\n",
              "      <td>TM195</td>\n",
              "      <td>18</td>\n",
              "      <td>Male</td>\n",
              "      <td>14</td>\n",
              "      <td>Single</td>\n",
              "      <td>3</td>\n",
              "      <td>4</td>\n",
              "      <td>29562</td>\n",
              "      <td>112.0</td>\n",
              "    </tr>\n",
              "    <tr>\n",
              "      <th>1</th>\n",
              "      <td>TM195</td>\n",
              "      <td>19</td>\n",
              "      <td>Male</td>\n",
              "      <td>15</td>\n",
              "      <td>Single</td>\n",
              "      <td>2</td>\n",
              "      <td>3</td>\n",
              "      <td>31836</td>\n",
              "      <td>75.2</td>\n",
              "    </tr>\n",
              "    <tr>\n",
              "      <th>2</th>\n",
              "      <td>TM195</td>\n",
              "      <td>19</td>\n",
              "      <td>Female</td>\n",
              "      <td>14</td>\n",
              "      <td>Partnered</td>\n",
              "      <td>4</td>\n",
              "      <td>3</td>\n",
              "      <td>30699</td>\n",
              "      <td>65.8</td>\n",
              "    </tr>\n",
              "    <tr>\n",
              "      <th>3</th>\n",
              "      <td>TM195</td>\n",
              "      <td>19</td>\n",
              "      <td>Male</td>\n",
              "      <td>12</td>\n",
              "      <td>Single</td>\n",
              "      <td>3</td>\n",
              "      <td>3</td>\n",
              "      <td>32973</td>\n",
              "      <td>84.6</td>\n",
              "    </tr>\n",
              "    <tr>\n",
              "      <th>4</th>\n",
              "      <td>TM195</td>\n",
              "      <td>20</td>\n",
              "      <td>Male</td>\n",
              "      <td>13</td>\n",
              "      <td>Partnered</td>\n",
              "      <td>4</td>\n",
              "      <td>2</td>\n",
              "      <td>35247</td>\n",
              "      <td>47.0</td>\n",
              "    </tr>\n",
              "  </tbody>\n",
              "</table>\n",
              "</div>\n",
              "      <button class=\"colab-df-convert\" onclick=\"convertToInteractive('df-233012ab-2479-4862-8da6-b5127e29da6a')\"\n",
              "              title=\"Convert this dataframe to an interactive table.\"\n",
              "              style=\"display:none;\">\n",
              "        \n",
              "  <svg xmlns=\"http://www.w3.org/2000/svg\" height=\"24px\"viewBox=\"0 0 24 24\"\n",
              "       width=\"24px\">\n",
              "    <path d=\"M0 0h24v24H0V0z\" fill=\"none\"/>\n",
              "    <path d=\"M18.56 5.44l.94 2.06.94-2.06 2.06-.94-2.06-.94-.94-2.06-.94 2.06-2.06.94zm-11 1L8.5 8.5l.94-2.06 2.06-.94-2.06-.94L8.5 2.5l-.94 2.06-2.06.94zm10 10l.94 2.06.94-2.06 2.06-.94-2.06-.94-.94-2.06-.94 2.06-2.06.94z\"/><path d=\"M17.41 7.96l-1.37-1.37c-.4-.4-.92-.59-1.43-.59-.52 0-1.04.2-1.43.59L10.3 9.45l-7.72 7.72c-.78.78-.78 2.05 0 2.83L4 21.41c.39.39.9.59 1.41.59.51 0 1.02-.2 1.41-.59l7.78-7.78 2.81-2.81c.8-.78.8-2.07 0-2.86zM5.41 20L4 18.59l7.72-7.72 1.47 1.35L5.41 20z\"/>\n",
              "  </svg>\n",
              "      </button>\n",
              "      \n",
              "  <style>\n",
              "    .colab-df-container {\n",
              "      display:flex;\n",
              "      flex-wrap:wrap;\n",
              "      gap: 12px;\n",
              "    }\n",
              "\n",
              "    .colab-df-convert {\n",
              "      background-color: #E8F0FE;\n",
              "      border: none;\n",
              "      border-radius: 50%;\n",
              "      cursor: pointer;\n",
              "      display: none;\n",
              "      fill: #1967D2;\n",
              "      height: 32px;\n",
              "      padding: 0 0 0 0;\n",
              "      width: 32px;\n",
              "    }\n",
              "\n",
              "    .colab-df-convert:hover {\n",
              "      background-color: #E2EBFA;\n",
              "      box-shadow: 0px 1px 2px rgba(60, 64, 67, 0.3), 0px 1px 3px 1px rgba(60, 64, 67, 0.15);\n",
              "      fill: #174EA6;\n",
              "    }\n",
              "\n",
              "    [theme=dark] .colab-df-convert {\n",
              "      background-color: #3B4455;\n",
              "      fill: #D2E3FC;\n",
              "    }\n",
              "\n",
              "    [theme=dark] .colab-df-convert:hover {\n",
              "      background-color: #434B5C;\n",
              "      box-shadow: 0px 1px 3px 1px rgba(0, 0, 0, 0.15);\n",
              "      filter: drop-shadow(0px 1px 2px rgba(0, 0, 0, 0.3));\n",
              "      fill: #FFFFFF;\n",
              "    }\n",
              "  </style>\n",
              "\n",
              "      <script>\n",
              "        const buttonEl =\n",
              "          document.querySelector('#df-233012ab-2479-4862-8da6-b5127e29da6a button.colab-df-convert');\n",
              "        buttonEl.style.display =\n",
              "          google.colab.kernel.accessAllowed ? 'block' : 'none';\n",
              "\n",
              "        async function convertToInteractive(key) {\n",
              "          const element = document.querySelector('#df-233012ab-2479-4862-8da6-b5127e29da6a');\n",
              "          const dataTable =\n",
              "            await google.colab.kernel.invokeFunction('convertToInteractive',\n",
              "                                                     [key], {});\n",
              "          if (!dataTable) return;\n",
              "\n",
              "          const docLinkHtml = 'Like what you see? Visit the ' +\n",
              "            '<a target=\"_blank\" href=https://colab.research.google.com/notebooks/data_table.ipynb>data table notebook</a>'\n",
              "            + ' to learn more about interactive tables.';\n",
              "          element.innerHTML = '';\n",
              "          dataTable['output_type'] = 'display_data';\n",
              "          await google.colab.output.renderOutput(dataTable, element);\n",
              "          const docLink = document.createElement('div');\n",
              "          docLink.innerHTML = docLinkHtml;\n",
              "          element.appendChild(docLink);\n",
              "        }\n",
              "      </script>\n",
              "    </div>\n",
              "  </div>\n",
              "  "
            ],
            "text/plain": [
              "  Product  Age  Gender  Education Marital Status  Usage  Fitness  Income  \\\n",
              "0   TM195   18    Male         14         Single      3        4   29562   \n",
              "1   TM195   19    Male         15         Single      2        3   31836   \n",
              "2   TM195   19  Female         14      Partnered      4        3   30699   \n",
              "3   TM195   19    Male         12         Single      3        3   32973   \n",
              "4   TM195   20    Male         13      Partnered      4        2   35247   \n",
              "\n",
              "   Miles  \n",
              "0  112.0  \n",
              "1   75.2  \n",
              "2   65.8  \n",
              "3   84.6  \n",
              "4   47.0  "
            ]
          },
          "execution_count": 62,
          "metadata": {},
          "output_type": "execute_result"
        }
      ],
      "source": [
        "df_Product_TM195.head()"
      ]
    },
    {
      "cell_type": "code",
      "execution_count": 63,
      "id": "e023d1f8",
      "metadata": {
        "colab": {
          "base_uri": "https://localhost:8080/"
        },
        "id": "e023d1f8",
        "outputId": "68952757-1178-46c3-bb70-07e56a39608e"
      },
      "outputs": [
        {
          "data": {
            "text/plain": [
              "((60, 9), (80, 9), (40, 9))"
            ]
          },
          "execution_count": 63,
          "metadata": {},
          "output_type": "execute_result"
        }
      ],
      "source": [
        "df_Product_TM498.shape,df_Product_TM195.shape,df_Product_TM798.shape"
      ]
    },
    {
      "cell_type": "code",
      "execution_count": 64,
      "id": "d5226521",
      "metadata": {
        "colab": {
          "base_uri": "https://localhost:8080/",
          "height": 206
        },
        "id": "d5226521",
        "outputId": "1e6c652f-469c-4a7a-bd4d-0327dde9fd3b"
      },
      "outputs": [
        {
          "data": {
            "text/html": [
              "\n",
              "  <div id=\"df-a6c3d81e-2ecf-44e9-8677-66066b2d9f63\">\n",
              "    <div class=\"colab-df-container\">\n",
              "      <div>\n",
              "<style scoped>\n",
              "    .dataframe tbody tr th:only-of-type {\n",
              "        vertical-align: middle;\n",
              "    }\n",
              "\n",
              "    .dataframe tbody tr th {\n",
              "        vertical-align: top;\n",
              "    }\n",
              "\n",
              "    .dataframe thead th {\n",
              "        text-align: right;\n",
              "    }\n",
              "</style>\n",
              "<table border=\"1\" class=\"dataframe\">\n",
              "  <thead>\n",
              "    <tr style=\"text-align: right;\">\n",
              "      <th></th>\n",
              "      <th>Product</th>\n",
              "      <th>Age</th>\n",
              "      <th>Gender</th>\n",
              "      <th>Education</th>\n",
              "      <th>Marital Status</th>\n",
              "      <th>Usage</th>\n",
              "      <th>Fitness</th>\n",
              "      <th>Income</th>\n",
              "      <th>Miles</th>\n",
              "    </tr>\n",
              "  </thead>\n",
              "  <tbody>\n",
              "    <tr>\n",
              "      <th>80</th>\n",
              "      <td>TM498</td>\n",
              "      <td>19</td>\n",
              "      <td>Male</td>\n",
              "      <td>14</td>\n",
              "      <td>Single</td>\n",
              "      <td>3</td>\n",
              "      <td>3</td>\n",
              "      <td>31836</td>\n",
              "      <td>63.6</td>\n",
              "    </tr>\n",
              "    <tr>\n",
              "      <th>81</th>\n",
              "      <td>TM498</td>\n",
              "      <td>20</td>\n",
              "      <td>Male</td>\n",
              "      <td>14</td>\n",
              "      <td>Single</td>\n",
              "      <td>2</td>\n",
              "      <td>3</td>\n",
              "      <td>32973</td>\n",
              "      <td>53.0</td>\n",
              "    </tr>\n",
              "    <tr>\n",
              "      <th>82</th>\n",
              "      <td>TM498</td>\n",
              "      <td>20</td>\n",
              "      <td>Female</td>\n",
              "      <td>14</td>\n",
              "      <td>Partnered</td>\n",
              "      <td>3</td>\n",
              "      <td>3</td>\n",
              "      <td>34110</td>\n",
              "      <td>106.0</td>\n",
              "    </tr>\n",
              "    <tr>\n",
              "      <th>83</th>\n",
              "      <td>TM498</td>\n",
              "      <td>20</td>\n",
              "      <td>Male</td>\n",
              "      <td>14</td>\n",
              "      <td>Single</td>\n",
              "      <td>3</td>\n",
              "      <td>3</td>\n",
              "      <td>38658</td>\n",
              "      <td>95.4</td>\n",
              "    </tr>\n",
              "    <tr>\n",
              "      <th>84</th>\n",
              "      <td>TM498</td>\n",
              "      <td>21</td>\n",
              "      <td>Female</td>\n",
              "      <td>14</td>\n",
              "      <td>Partnered</td>\n",
              "      <td>5</td>\n",
              "      <td>4</td>\n",
              "      <td>34110</td>\n",
              "      <td>212.0</td>\n",
              "    </tr>\n",
              "  </tbody>\n",
              "</table>\n",
              "</div>\n",
              "      <button class=\"colab-df-convert\" onclick=\"convertToInteractive('df-a6c3d81e-2ecf-44e9-8677-66066b2d9f63')\"\n",
              "              title=\"Convert this dataframe to an interactive table.\"\n",
              "              style=\"display:none;\">\n",
              "        \n",
              "  <svg xmlns=\"http://www.w3.org/2000/svg\" height=\"24px\"viewBox=\"0 0 24 24\"\n",
              "       width=\"24px\">\n",
              "    <path d=\"M0 0h24v24H0V0z\" fill=\"none\"/>\n",
              "    <path d=\"M18.56 5.44l.94 2.06.94-2.06 2.06-.94-2.06-.94-.94-2.06-.94 2.06-2.06.94zm-11 1L8.5 8.5l.94-2.06 2.06-.94-2.06-.94L8.5 2.5l-.94 2.06-2.06.94zm10 10l.94 2.06.94-2.06 2.06-.94-2.06-.94-.94-2.06-.94 2.06-2.06.94z\"/><path d=\"M17.41 7.96l-1.37-1.37c-.4-.4-.92-.59-1.43-.59-.52 0-1.04.2-1.43.59L10.3 9.45l-7.72 7.72c-.78.78-.78 2.05 0 2.83L4 21.41c.39.39.9.59 1.41.59.51 0 1.02-.2 1.41-.59l7.78-7.78 2.81-2.81c.8-.78.8-2.07 0-2.86zM5.41 20L4 18.59l7.72-7.72 1.47 1.35L5.41 20z\"/>\n",
              "  </svg>\n",
              "      </button>\n",
              "      \n",
              "  <style>\n",
              "    .colab-df-container {\n",
              "      display:flex;\n",
              "      flex-wrap:wrap;\n",
              "      gap: 12px;\n",
              "    }\n",
              "\n",
              "    .colab-df-convert {\n",
              "      background-color: #E8F0FE;\n",
              "      border: none;\n",
              "      border-radius: 50%;\n",
              "      cursor: pointer;\n",
              "      display: none;\n",
              "      fill: #1967D2;\n",
              "      height: 32px;\n",
              "      padding: 0 0 0 0;\n",
              "      width: 32px;\n",
              "    }\n",
              "\n",
              "    .colab-df-convert:hover {\n",
              "      background-color: #E2EBFA;\n",
              "      box-shadow: 0px 1px 2px rgba(60, 64, 67, 0.3), 0px 1px 3px 1px rgba(60, 64, 67, 0.15);\n",
              "      fill: #174EA6;\n",
              "    }\n",
              "\n",
              "    [theme=dark] .colab-df-convert {\n",
              "      background-color: #3B4455;\n",
              "      fill: #D2E3FC;\n",
              "    }\n",
              "\n",
              "    [theme=dark] .colab-df-convert:hover {\n",
              "      background-color: #434B5C;\n",
              "      box-shadow: 0px 1px 3px 1px rgba(0, 0, 0, 0.15);\n",
              "      filter: drop-shadow(0px 1px 2px rgba(0, 0, 0, 0.3));\n",
              "      fill: #FFFFFF;\n",
              "    }\n",
              "  </style>\n",
              "\n",
              "      <script>\n",
              "        const buttonEl =\n",
              "          document.querySelector('#df-a6c3d81e-2ecf-44e9-8677-66066b2d9f63 button.colab-df-convert');\n",
              "        buttonEl.style.display =\n",
              "          google.colab.kernel.accessAllowed ? 'block' : 'none';\n",
              "\n",
              "        async function convertToInteractive(key) {\n",
              "          const element = document.querySelector('#df-a6c3d81e-2ecf-44e9-8677-66066b2d9f63');\n",
              "          const dataTable =\n",
              "            await google.colab.kernel.invokeFunction('convertToInteractive',\n",
              "                                                     [key], {});\n",
              "          if (!dataTable) return;\n",
              "\n",
              "          const docLinkHtml = 'Like what you see? Visit the ' +\n",
              "            '<a target=\"_blank\" href=https://colab.research.google.com/notebooks/data_table.ipynb>data table notebook</a>'\n",
              "            + ' to learn more about interactive tables.';\n",
              "          element.innerHTML = '';\n",
              "          dataTable['output_type'] = 'display_data';\n",
              "          await google.colab.output.renderOutput(dataTable, element);\n",
              "          const docLink = document.createElement('div');\n",
              "          docLink.innerHTML = docLinkHtml;\n",
              "          element.appendChild(docLink);\n",
              "        }\n",
              "      </script>\n",
              "    </div>\n",
              "  </div>\n",
              "  "
            ],
            "text/plain": [
              "   Product  Age  Gender  Education Marital Status  Usage  Fitness  Income  \\\n",
              "80   TM498   19    Male         14         Single      3        3   31836   \n",
              "81   TM498   20    Male         14         Single      2        3   32973   \n",
              "82   TM498   20  Female         14      Partnered      3        3   34110   \n",
              "83   TM498   20    Male         14         Single      3        3   38658   \n",
              "84   TM498   21  Female         14      Partnered      5        4   34110   \n",
              "\n",
              "    Miles  \n",
              "80   63.6  \n",
              "81   53.0  \n",
              "82  106.0  \n",
              "83   95.4  \n",
              "84  212.0  "
            ]
          },
          "execution_count": 64,
          "metadata": {},
          "output_type": "execute_result"
        }
      ],
      "source": [
        "df_Product_TM498.head()"
      ]
    },
    {
      "cell_type": "code",
      "execution_count": 65,
      "id": "9a0d44d7",
      "metadata": {
        "colab": {
          "base_uri": "https://localhost:8080/",
          "height": 206
        },
        "id": "9a0d44d7",
        "outputId": "7fca0d85-32f1-4724-933a-71e9a3298f92"
      },
      "outputs": [
        {
          "data": {
            "text/html": [
              "\n",
              "  <div id=\"df-9ea63478-9dd5-445f-b108-dc059b3390a8\">\n",
              "    <div class=\"colab-df-container\">\n",
              "      <div>\n",
              "<style scoped>\n",
              "    .dataframe tbody tr th:only-of-type {\n",
              "        vertical-align: middle;\n",
              "    }\n",
              "\n",
              "    .dataframe tbody tr th {\n",
              "        vertical-align: top;\n",
              "    }\n",
              "\n",
              "    .dataframe thead th {\n",
              "        text-align: right;\n",
              "    }\n",
              "</style>\n",
              "<table border=\"1\" class=\"dataframe\">\n",
              "  <thead>\n",
              "    <tr style=\"text-align: right;\">\n",
              "      <th></th>\n",
              "      <th>Product</th>\n",
              "      <th>Age</th>\n",
              "      <th>Gender</th>\n",
              "      <th>Education</th>\n",
              "      <th>Marital Status</th>\n",
              "      <th>Usage</th>\n",
              "      <th>Fitness</th>\n",
              "      <th>Income</th>\n",
              "      <th>Miles</th>\n",
              "    </tr>\n",
              "  </thead>\n",
              "  <tbody>\n",
              "    <tr>\n",
              "      <th>140</th>\n",
              "      <td>TM798</td>\n",
              "      <td>22</td>\n",
              "      <td>Male</td>\n",
              "      <td>14</td>\n",
              "      <td>Single</td>\n",
              "      <td>4</td>\n",
              "      <td>3</td>\n",
              "      <td>48658</td>\n",
              "      <td>106.0</td>\n",
              "    </tr>\n",
              "    <tr>\n",
              "      <th>141</th>\n",
              "      <td>TM798</td>\n",
              "      <td>22</td>\n",
              "      <td>Male</td>\n",
              "      <td>16</td>\n",
              "      <td>Single</td>\n",
              "      <td>3</td>\n",
              "      <td>5</td>\n",
              "      <td>54781</td>\n",
              "      <td>120.0</td>\n",
              "    </tr>\n",
              "    <tr>\n",
              "      <th>142</th>\n",
              "      <td>TM798</td>\n",
              "      <td>22</td>\n",
              "      <td>Male</td>\n",
              "      <td>18</td>\n",
              "      <td>Single</td>\n",
              "      <td>4</td>\n",
              "      <td>5</td>\n",
              "      <td>48556</td>\n",
              "      <td>200.0</td>\n",
              "    </tr>\n",
              "    <tr>\n",
              "      <th>143</th>\n",
              "      <td>TM798</td>\n",
              "      <td>23</td>\n",
              "      <td>Male</td>\n",
              "      <td>16</td>\n",
              "      <td>Single</td>\n",
              "      <td>4</td>\n",
              "      <td>5</td>\n",
              "      <td>58516</td>\n",
              "      <td>140.0</td>\n",
              "    </tr>\n",
              "    <tr>\n",
              "      <th>144</th>\n",
              "      <td>TM798</td>\n",
              "      <td>23</td>\n",
              "      <td>Female</td>\n",
              "      <td>18</td>\n",
              "      <td>Single</td>\n",
              "      <td>5</td>\n",
              "      <td>4</td>\n",
              "      <td>53536</td>\n",
              "      <td>100.0</td>\n",
              "    </tr>\n",
              "  </tbody>\n",
              "</table>\n",
              "</div>\n",
              "      <button class=\"colab-df-convert\" onclick=\"convertToInteractive('df-9ea63478-9dd5-445f-b108-dc059b3390a8')\"\n",
              "              title=\"Convert this dataframe to an interactive table.\"\n",
              "              style=\"display:none;\">\n",
              "        \n",
              "  <svg xmlns=\"http://www.w3.org/2000/svg\" height=\"24px\"viewBox=\"0 0 24 24\"\n",
              "       width=\"24px\">\n",
              "    <path d=\"M0 0h24v24H0V0z\" fill=\"none\"/>\n",
              "    <path d=\"M18.56 5.44l.94 2.06.94-2.06 2.06-.94-2.06-.94-.94-2.06-.94 2.06-2.06.94zm-11 1L8.5 8.5l.94-2.06 2.06-.94-2.06-.94L8.5 2.5l-.94 2.06-2.06.94zm10 10l.94 2.06.94-2.06 2.06-.94-2.06-.94-.94-2.06-.94 2.06-2.06.94z\"/><path d=\"M17.41 7.96l-1.37-1.37c-.4-.4-.92-.59-1.43-.59-.52 0-1.04.2-1.43.59L10.3 9.45l-7.72 7.72c-.78.78-.78 2.05 0 2.83L4 21.41c.39.39.9.59 1.41.59.51 0 1.02-.2 1.41-.59l7.78-7.78 2.81-2.81c.8-.78.8-2.07 0-2.86zM5.41 20L4 18.59l7.72-7.72 1.47 1.35L5.41 20z\"/>\n",
              "  </svg>\n",
              "      </button>\n",
              "      \n",
              "  <style>\n",
              "    .colab-df-container {\n",
              "      display:flex;\n",
              "      flex-wrap:wrap;\n",
              "      gap: 12px;\n",
              "    }\n",
              "\n",
              "    .colab-df-convert {\n",
              "      background-color: #E8F0FE;\n",
              "      border: none;\n",
              "      border-radius: 50%;\n",
              "      cursor: pointer;\n",
              "      display: none;\n",
              "      fill: #1967D2;\n",
              "      height: 32px;\n",
              "      padding: 0 0 0 0;\n",
              "      width: 32px;\n",
              "    }\n",
              "\n",
              "    .colab-df-convert:hover {\n",
              "      background-color: #E2EBFA;\n",
              "      box-shadow: 0px 1px 2px rgba(60, 64, 67, 0.3), 0px 1px 3px 1px rgba(60, 64, 67, 0.15);\n",
              "      fill: #174EA6;\n",
              "    }\n",
              "\n",
              "    [theme=dark] .colab-df-convert {\n",
              "      background-color: #3B4455;\n",
              "      fill: #D2E3FC;\n",
              "    }\n",
              "\n",
              "    [theme=dark] .colab-df-convert:hover {\n",
              "      background-color: #434B5C;\n",
              "      box-shadow: 0px 1px 3px 1px rgba(0, 0, 0, 0.15);\n",
              "      filter: drop-shadow(0px 1px 2px rgba(0, 0, 0, 0.3));\n",
              "      fill: #FFFFFF;\n",
              "    }\n",
              "  </style>\n",
              "\n",
              "      <script>\n",
              "        const buttonEl =\n",
              "          document.querySelector('#df-9ea63478-9dd5-445f-b108-dc059b3390a8 button.colab-df-convert');\n",
              "        buttonEl.style.display =\n",
              "          google.colab.kernel.accessAllowed ? 'block' : 'none';\n",
              "\n",
              "        async function convertToInteractive(key) {\n",
              "          const element = document.querySelector('#df-9ea63478-9dd5-445f-b108-dc059b3390a8');\n",
              "          const dataTable =\n",
              "            await google.colab.kernel.invokeFunction('convertToInteractive',\n",
              "                                                     [key], {});\n",
              "          if (!dataTable) return;\n",
              "\n",
              "          const docLinkHtml = 'Like what you see? Visit the ' +\n",
              "            '<a target=\"_blank\" href=https://colab.research.google.com/notebooks/data_table.ipynb>data table notebook</a>'\n",
              "            + ' to learn more about interactive tables.';\n",
              "          element.innerHTML = '';\n",
              "          dataTable['output_type'] = 'display_data';\n",
              "          await google.colab.output.renderOutput(dataTable, element);\n",
              "          const docLink = document.createElement('div');\n",
              "          docLink.innerHTML = docLinkHtml;\n",
              "          element.appendChild(docLink);\n",
              "        }\n",
              "      </script>\n",
              "    </div>\n",
              "  </div>\n",
              "  "
            ],
            "text/plain": [
              "    Product  Age  Gender  Education Marital Status  Usage  Fitness  Income  \\\n",
              "140   TM798   22    Male         14         Single      4        3   48658   \n",
              "141   TM798   22    Male         16         Single      3        5   54781   \n",
              "142   TM798   22    Male         18         Single      4        5   48556   \n",
              "143   TM798   23    Male         16         Single      4        5   58516   \n",
              "144   TM798   23  Female         18         Single      5        4   53536   \n",
              "\n",
              "     Miles  \n",
              "140  106.0  \n",
              "141  120.0  \n",
              "142  200.0  \n",
              "143  140.0  \n",
              "144  100.0  "
            ]
          },
          "execution_count": 65,
          "metadata": {},
          "output_type": "execute_result"
        }
      ],
      "source": [
        "df_Product_TM798.head()"
      ]
    },
    {
      "attachments": {},
      "cell_type": "markdown",
      "id": "10101bc2",
      "metadata": {
        "id": "10101bc2"
      },
      "source": [
        "##### TM195"
      ]
    },
    {
      "cell_type": "code",
      "execution_count": 66,
      "id": "d24513d2",
      "metadata": {
        "colab": {
          "base_uri": "https://localhost:8080/",
          "height": 49
        },
        "id": "d24513d2",
        "outputId": "edd5b3dd-52b7-4497-df9f-77dce055f53f"
      },
      "outputs": [
        {
          "data": {
            "text/html": [
              "\n",
              "  <div id=\"df-4588f7ad-2eaf-46cd-9397-e1887f6bb8d5\">\n",
              "    <div class=\"colab-df-container\">\n",
              "      <div>\n",
              "<style scoped>\n",
              "    .dataframe tbody tr th:only-of-type {\n",
              "        vertical-align: middle;\n",
              "    }\n",
              "\n",
              "    .dataframe tbody tr th {\n",
              "        vertical-align: top;\n",
              "    }\n",
              "\n",
              "    .dataframe thead th {\n",
              "        text-align: right;\n",
              "    }\n",
              "</style>\n",
              "<table border=\"1\" class=\"dataframe\">\n",
              "  <thead>\n",
              "    <tr style=\"text-align: right;\">\n",
              "      <th></th>\n",
              "      <th>Product</th>\n",
              "      <th>Age</th>\n",
              "      <th>Gender</th>\n",
              "      <th>Education</th>\n",
              "      <th>Marital Status</th>\n",
              "      <th>Usage</th>\n",
              "      <th>Fitness</th>\n",
              "      <th>Income</th>\n",
              "      <th>Miles</th>\n",
              "    </tr>\n",
              "  </thead>\n",
              "  <tbody>\n",
              "  </tbody>\n",
              "</table>\n",
              "</div>\n",
              "      <button class=\"colab-df-convert\" onclick=\"convertToInteractive('df-4588f7ad-2eaf-46cd-9397-e1887f6bb8d5')\"\n",
              "              title=\"Convert this dataframe to an interactive table.\"\n",
              "              style=\"display:none;\">\n",
              "        \n",
              "  <svg xmlns=\"http://www.w3.org/2000/svg\" height=\"24px\"viewBox=\"0 0 24 24\"\n",
              "       width=\"24px\">\n",
              "    <path d=\"M0 0h24v24H0V0z\" fill=\"none\"/>\n",
              "    <path d=\"M18.56 5.44l.94 2.06.94-2.06 2.06-.94-2.06-.94-.94-2.06-.94 2.06-2.06.94zm-11 1L8.5 8.5l.94-2.06 2.06-.94-2.06-.94L8.5 2.5l-.94 2.06-2.06.94zm10 10l.94 2.06.94-2.06 2.06-.94-2.06-.94-.94-2.06-.94 2.06-2.06.94z\"/><path d=\"M17.41 7.96l-1.37-1.37c-.4-.4-.92-.59-1.43-.59-.52 0-1.04.2-1.43.59L10.3 9.45l-7.72 7.72c-.78.78-.78 2.05 0 2.83L4 21.41c.39.39.9.59 1.41.59.51 0 1.02-.2 1.41-.59l7.78-7.78 2.81-2.81c.8-.78.8-2.07 0-2.86zM5.41 20L4 18.59l7.72-7.72 1.47 1.35L5.41 20z\"/>\n",
              "  </svg>\n",
              "      </button>\n",
              "      \n",
              "  <style>\n",
              "    .colab-df-container {\n",
              "      display:flex;\n",
              "      flex-wrap:wrap;\n",
              "      gap: 12px;\n",
              "    }\n",
              "\n",
              "    .colab-df-convert {\n",
              "      background-color: #E8F0FE;\n",
              "      border: none;\n",
              "      border-radius: 50%;\n",
              "      cursor: pointer;\n",
              "      display: none;\n",
              "      fill: #1967D2;\n",
              "      height: 32px;\n",
              "      padding: 0 0 0 0;\n",
              "      width: 32px;\n",
              "    }\n",
              "\n",
              "    .colab-df-convert:hover {\n",
              "      background-color: #E2EBFA;\n",
              "      box-shadow: 0px 1px 2px rgba(60, 64, 67, 0.3), 0px 1px 3px 1px rgba(60, 64, 67, 0.15);\n",
              "      fill: #174EA6;\n",
              "    }\n",
              "\n",
              "    [theme=dark] .colab-df-convert {\n",
              "      background-color: #3B4455;\n",
              "      fill: #D2E3FC;\n",
              "    }\n",
              "\n",
              "    [theme=dark] .colab-df-convert:hover {\n",
              "      background-color: #434B5C;\n",
              "      box-shadow: 0px 1px 3px 1px rgba(0, 0, 0, 0.15);\n",
              "      filter: drop-shadow(0px 1px 2px rgba(0, 0, 0, 0.3));\n",
              "      fill: #FFFFFF;\n",
              "    }\n",
              "  </style>\n",
              "\n",
              "      <script>\n",
              "        const buttonEl =\n",
              "          document.querySelector('#df-4588f7ad-2eaf-46cd-9397-e1887f6bb8d5 button.colab-df-convert');\n",
              "        buttonEl.style.display =\n",
              "          google.colab.kernel.accessAllowed ? 'block' : 'none';\n",
              "\n",
              "        async function convertToInteractive(key) {\n",
              "          const element = document.querySelector('#df-4588f7ad-2eaf-46cd-9397-e1887f6bb8d5');\n",
              "          const dataTable =\n",
              "            await google.colab.kernel.invokeFunction('convertToInteractive',\n",
              "                                                     [key], {});\n",
              "          if (!dataTable) return;\n",
              "\n",
              "          const docLinkHtml = 'Like what you see? Visit the ' +\n",
              "            '<a target=\"_blank\" href=https://colab.research.google.com/notebooks/data_table.ipynb>data table notebook</a>'\n",
              "            + ' to learn more about interactive tables.';\n",
              "          element.innerHTML = '';\n",
              "          dataTable['output_type'] = 'display_data';\n",
              "          await google.colab.output.renderOutput(dataTable, element);\n",
              "          const docLink = document.createElement('div');\n",
              "          docLink.innerHTML = docLinkHtml;\n",
              "          element.appendChild(docLink);\n",
              "        }\n",
              "      </script>\n",
              "    </div>\n",
              "  </div>\n",
              "  "
            ],
            "text/plain": [
              "Empty DataFrame\n",
              "Columns: [Product, Age, Gender, Education, Marital Status, Usage, Fitness, Income, Miles]\n",
              "Index: []"
            ]
          },
          "execution_count": 66,
          "metadata": {},
          "output_type": "execute_result"
        }
      ],
      "source": [
        "sampleTM195=pd.DataFrame([],columns= df.columns)\n",
        "sampleTM195"
      ]
    },
    {
      "cell_type": "code",
      "execution_count": 67,
      "id": "59db28df",
      "metadata": {
        "id": "59db28df"
      },
      "outputs": [],
      "source": [
        "import random\n",
        "for i in random.sample(range(0,len(df_Product_TM195)),30):\n",
        "    sampleTM195=sampleTM195.append(df_Product_TM195.iloc[i,:])"
      ]
    },
    {
      "cell_type": "code",
      "execution_count": 68,
      "id": "72f73c76",
      "metadata": {
        "colab": {
          "base_uri": "https://localhost:8080/",
          "height": 332
        },
        "id": "72f73c76",
        "outputId": "851a298b-d5fc-4d61-bfb7-e069f999c4d0"
      },
      "outputs": [
        {
          "data": {
            "image/png": "[encoded data removed]",
            "text/plain": [
              "<Figure size 720x576 with 6 Axes>"
            ]
          },
          "metadata": {
            "needs_background": "light"
          },
          "output_type": "display_data"
        }
      ],
      "source": [
        "import matplotlib.pyplot as plt\n",
        "l=1\n",
        "num_col=['Age','Education','Usage','Fitness','Income','Miles']\n",
        "for i in num_col:\n",
        "    plt.subplot(3,3,l)\n",
        "    sampleTM195[i].hist(figsize=(10, 8))\n",
        "    l=l+1"
      ]
    },
    {
      "cell_type": "code",
      "execution_count": 69,
      "id": "ed51486b",
      "metadata": {
        "colab": {
          "base_uri": "https://localhost:8080/"
        },
        "id": "ed51486b",
        "outputId": "3dd96b91-05a8-4b04-ebdb-0e6582434d8a"
      },
      "outputs": [
        {
          "data": {
            "text/plain": [
              "(30, 9)"
            ]
          },
          "execution_count": 69,
          "metadata": {},
          "output_type": "execute_result"
        }
      ],
      "source": [
        "sampleTM195.shape"
      ]
    },
    {
      "cell_type": "code",
      "execution_count": 70,
      "id": "1d6b10c5",
      "metadata": {
        "colab": {
          "base_uri": "https://localhost:8080/"
        },
        "id": "1d6b10c5",
        "outputId": "9618c1c7-e74c-43c0-8a2b-109d63f37941"
      },
      "outputs": [
        {
          "name": "stderr",
          "output_type": "stream",
          "text": [
            "<ipython-input-70-0a97b344b9e6>:1: FutureWarning: Dropping of nuisance columns in DataFrame reductions (with 'numeric_only=None') is deprecated; in a future version this will raise TypeError.  Select only valid columns before calling the reduction.\n",
            "  sampleTM195.mean(),sampleTM195.std()\n"
          ]
        },
        {
          "data": {
            "text/plain": [
              "(Age             28.566667\n",
              " Education       15.000000\n",
              " Usage            3.200000\n",
              " Fitness          2.866667\n",
              " Income       46920.200000\n",
              " Miles           83.033333\n",
              " dtype: float64, Age             7.346983\n",
              " Education       1.231764\n",
              " Usage           0.761124\n",
              " Fitness         0.507416\n",
              " Income       9280.044104\n",
              " Miles          22.770161\n",
              " dtype: float64)"
            ]
          },
          "execution_count": 70,
          "metadata": {},
          "output_type": "execute_result"
        }
      ],
      "source": [
        "sampleTM195.mean(),sampleTM195.std()"
      ]
    },
    {
      "cell_type": "code",
      "execution_count": 71,
      "id": "d95ac863",
      "metadata": {
        "colab": {
          "base_uri": "https://localhost:8080/"
        },
        "id": "d95ac863",
        "outputId": "5ef2e321-cf74-40ce-c106-1bb5c1cd1cf6"
      },
      "outputs": [
        {
          "name": "stdout",
          "output_type": "stream",
          "text": [
            "90% confidence interval for Age is (26.287509563074558, 30.845823770258775)\n",
            "90% confidence interval for Education is (14.617886343108736, 15.382113656891264)\n",
            "90% confidence interval for Usage is (2.9638864763628576, 3.4361135236371427)\n",
            "90% confidence interval for Fitness is (2.7092576509085715, 3.024075682424762)\n",
            "90% confidence interval for Income is (44041.37503120495, 49799.02496879504)\n",
            "90% confidence interval for Miles is (75.96964838082592, 90.09701828584075)\n"
          ]
        }
      ],
      "source": [
        "import scipy.stats as st\n",
        "col=['Age','Education','Usage','Fitness','Income','Miles']\n",
        "for i in col:\n",
        "    #create 90% confidence interval for population mean weight\n",
        "    data=sampleTM195[i]\n",
        "    print('90% confidence interval for',i,'is',st.t.interval(alpha=0.90, df=len(data)-1, loc=np.mean(data), scale=st.sem(data)))"
      ]
    },
    {
      "cell_type": "code",
      "execution_count": 72,
      "id": "83a61c68",
      "metadata": {
        "colab": {
          "base_uri": "https://localhost:8080/"
        },
        "id": "83a61c68",
        "outputId": "3377f1b5-752f-4f63-e55a-b5ebefab433b"
      },
      "outputs": [
        {
          "name": "stdout",
          "output_type": "stream",
          "text": [
            "92% confidence interval for Age is (26.133102729500422, 31.00023060383291)\n",
            "92% confidence interval for Education is (14.591999158880398, 15.408000841119602)\n",
            "92% confidence interval for Usage is (2.9478904129535457, 3.4521095870464547)\n",
            "92% confidence interval for Fitness is (2.698593608635697, 3.034739724697636)\n",
            "92% confidence interval for Income is (43846.342294257935, 49994.05770574206)\n",
            "92% confidence interval for Miles is (75.49110250736992, 90.57556415929675)\n"
          ]
        }
      ],
      "source": [
        "for i in col:\n",
        "    #create 92% confidence interval for population mean weight\n",
        "    data=sampleTM195[i]\n",
        "    print('92% confidence interval for',i,'is',st.t.interval(alpha=0.92, df=len(data)-1, loc=np.mean(data), scale=st.sem(data)))"
      ]
    },
    {
      "cell_type": "code",
      "execution_count": 73,
      "id": "1b1ab294",
      "metadata": {
        "colab": {
          "base_uri": "https://localhost:8080/"
        },
        "id": "1b1ab294",
        "outputId": "b420af7c-669e-4459-aec9-23d57f46dbb6"
      },
      "outputs": [
        {
          "name": "stdout",
          "output_type": "stream",
          "text": [
            "95% confidence interval for Age is (25.823258084170085, 31.310075249163248)\n",
            "95% confidence interval for Education is (14.540051941065201, 15.459948058934799)\n",
            "95% confidence interval for Usage is (2.915791480030605, 3.4842085199693953)\n",
            "95% confidence interval for Fitness is (2.677194320020403, 3.0561390133129303)\n",
            "95% confidence interval for Income is (43454.974582037226, 50385.42541796277)\n",
            "95% confidence interval for Miles is (74.53081549802533, 91.53585116864133)\n"
          ]
        }
      ],
      "source": [
        "for i in col:\n",
        "    #create 95% confidence interval for population mean weight\n",
        "    data=sampleTM195[i]\n",
        "    print('95% confidence interval for',i,'is',st.t.interval(alpha=0.95, df=len(data)-1, loc=np.mean(data), scale=st.sem(data)))"
      ]
    },
    {
      "cell_type": "code",
      "execution_count": 74,
      "id": "c67c4b82",
      "metadata": {
        "colab": {
          "base_uri": "https://localhost:8080/"
        },
        "id": "c67c4b82",
        "outputId": "7bbcb901-0c0e-4f3c-e260-0510f8b6c16c"
      },
      "outputs": [
        {
          "name": "stdout",
          "output_type": "stream",
          "text": [
            "98% confidence interval for Age is (25.26418640206261, 31.869146931270723)\n",
            "98% confidence interval for Education is (14.44632039242481, 15.55367960757519)\n",
            "98% confidence interval for Usage is (2.8578734082048003, 3.5421265917952)\n",
            "98% confidence interval for Fitness is (2.6385822721365337, 3.0947510611967997)\n",
            "98% confidence interval for Income is (42748.8058342749, 51091.594165725095)\n",
            "98% confidence interval for Miles is (72.79811079677788, 93.26855586988879)\n"
          ]
        }
      ],
      "source": [
        "for i in col:\n",
        "    #create 98% confidence interval for population mean weight\n",
        "    data=sampleTM195[i]\n",
        "    print('98% confidence interval for',i,'is',st.t.interval(alpha=0.98, df=len(data)-1, loc=np.mean(data), scale=st.sem(data)))"
      ]
    },
    {
      "cell_type": "code",
      "execution_count": 75,
      "id": "35df6281",
      "metadata": {
        "colab": {
          "base_uri": "https://localhost:8080/"
        },
        "id": "35df6281",
        "outputId": "a074b8f1-1b07-4e6d-efdf-b6be9347c42e"
      },
      "outputs": [
        {
          "name": "stdout",
          "output_type": "stream",
          "text": [
            "99% confidence interval for Age is (24.8693347930114, 32.263998540321936)\n",
            "99% confidence interval for Education is (14.38012127344957, 15.61987872655043)\n",
            "99% confidence interval for Usage is (2.8169680206034196, 3.583031979396581)\n",
            "99% confidence interval for Fitness is (2.611312013735613, 3.1220213195977204)\n",
            "99% confidence interval for Income is (42250.065019385926, 51590.33498061407)\n",
            "99% confidence interval for Miles is (71.57436568287918, 94.49230098378749)\n"
          ]
        }
      ],
      "source": [
        "for i in col:\n",
        "    #create 99% confidence interval for population mean weight\n",
        "    data=sampleTM195[i]\n",
        "    print('99% confidence interval for',i,'is',st.t.interval(alpha=0.99, df=len(data)-1, loc=np.mean(data), scale=st.sem(data)))"
      ]
    },
    {
      "cell_type": "code",
      "execution_count": 76,
      "id": "6dee9494",
      "metadata": {
        "id": "6dee9494"
      },
      "outputs": [],
      "source": [
        "df_TM195=list(np.zeros(75))\n",
        "for i in range(75):\n",
        "    df_TM195[i]=pd.DataFrame([],columns= df.columns)\n",
        "    for j in random.sample(range(0,len(df_Product_TM195)),30):\n",
        "        df_TM195[i]=df_TM195[i].append(df_Product_TM195.iloc[j,:])"
      ]
    },
    {
      "cell_type": "code",
      "execution_count": 77,
      "id": "9822f191",
      "metadata": {
        "id": "9822f191"
      },
      "outputs": [],
      "source": [
        "df_TM195_mean=0\n",
        "df_TM195_Age_mean=[]\n",
        "df_TM195_Edu_mean=[]\n",
        "df_TM195_Edu_mean=[]\n",
        "df_TM195_Usage_mean=[]\n",
        "df_TM195_Fitness_mean=[]\n",
        "df_TM195_Income_mean=[]\n",
        "df_TM195_Miles_mean=[]"
      ]
    },
    {
      "cell_type": "code",
      "execution_count": 78,
      "id": "175699ed",
      "metadata": {
        "id": "175699ed",
        "scrolled": false
      },
      "outputs": [],
      "source": [
        "for i in range(75):\n",
        "    df_TM195_Age_mean.append(df_TM195[i]['Age'].mean())\n",
        "for i in range(75):\n",
        "    df_TM195_Edu_mean.append(df_TM195[i]['Education'].mean())\n",
        "for i in range(75):\n",
        "    df_TM195_Usage_mean.append(df_TM195[i]['Usage'].mean())\n",
        "for i in range(75):\n",
        "    df_TM195_Fitness_mean.append(df_TM195[i]['Fitness'].mean())\n",
        "for i in range(75):\n",
        "    df_TM195_Income_mean.append(df_TM195[i]['Income'].mean())\n",
        "for i in range(75):\n",
        "    df_TM195_Miles_mean.append(df_TM195[i]['Miles'].mean())"
      ]
    },
    {
      "cell_type": "code",
      "execution_count": 79,
      "id": "d9f7328d",
      "metadata": {
        "id": "d9f7328d"
      },
      "outputs": [],
      "source": [
        "TM195_Age_mean=sum(df_TM195_Age_mean)/75\n",
        "TM195_Edu_mean=sum(df_TM195_Edu_mean)/75\n",
        "TM195_Usage_mean=sum(df_TM195_Usage_mean)/75\n",
        "TM195_Fitness_mean=sum(df_TM195_Fitness_mean)/75\n",
        "TM195_Income_mean=sum(df_TM195_Income_mean)/75\n",
        "TM195_Miles_mean=sum(df_TM195_Miles_mean)/75"
      ]
    },
    {
      "cell_type": "code",
      "execution_count": 80,
      "id": "938b16c1",
      "metadata": {
        "id": "938b16c1"
      },
      "outputs": [],
      "source": [
        "import statistics as sts\n",
        "TM195_Age_std=sts.stdev(df_TM195_Age_mean)\n",
        "TM195_Edu_std=sts.stdev(df_TM195_Edu_mean)\n",
        "TM195_Usage_std=sts.stdev(df_TM195_Usage_mean)\n",
        "TM195_Fitness_std=sts.stdev(df_TM195_Fitness_mean)\n",
        "TM195_Income_std=sts.stdev(df_TM195_Income_mean)\n",
        "TM195_Miles_std=sts.stdev(df_TM195_Miles_mean)"
      ]
    },
    {
      "attachments": {},
      "cell_type": "markdown",
      "id": "342db991",
      "metadata": {
        "id": "342db991"
      },
      "source": [
        "##### Product TM498"
      ]
    },
    {
      "cell_type": "code",
      "execution_count": 81,
      "id": "39a423cd",
      "metadata": {
        "colab": {
          "base_uri": "https://localhost:8080/",
          "height": 49
        },
        "id": "39a423cd",
        "outputId": "8c44756b-fdb4-40d1-b600-1cb9d8138d8f"
      },
      "outputs": [
        {
          "data": {
            "text/html": [
              "\n",
              "  <div id=\"df-c4d53b3a-e41a-4b33-909d-bc322f02bc5d\">\n",
              "    <div class=\"colab-df-container\">\n",
              "      <div>\n",
              "<style scoped>\n",
              "    .dataframe tbody tr th:only-of-type {\n",
              "        vertical-align: middle;\n",
              "    }\n",
              "\n",
              "    .dataframe tbody tr th {\n",
              "        vertical-align: top;\n",
              "    }\n",
              "\n",
              "    .dataframe thead th {\n",
              "        text-align: right;\n",
              "    }\n",
              "</style>\n",
              "<table border=\"1\" class=\"dataframe\">\n",
              "  <thead>\n",
              "    <tr style=\"text-align: right;\">\n",
              "      <th></th>\n",
              "      <th>Product</th>\n",
              "      <th>Age</th>\n",
              "      <th>Gender</th>\n",
              "      <th>Education</th>\n",
              "      <th>Marital Status</th>\n",
              "      <th>Usage</th>\n",
              "      <th>Fitness</th>\n",
              "      <th>Income</th>\n",
              "      <th>Miles</th>\n",
              "    </tr>\n",
              "  </thead>\n",
              "  <tbody>\n",
              "  </tbody>\n",
              "</table>\n",
              "</div>\n",
              "      <button class=\"colab-df-convert\" onclick=\"convertToInteractive('df-c4d53b3a-e41a-4b33-909d-bc322f02bc5d')\"\n",
              "              title=\"Convert this dataframe to an interactive table.\"\n",
              "              style=\"display:none;\">\n",
              "        \n",
              "  <svg xmlns=\"http://www.w3.org/2000/svg\" height=\"24px\"viewBox=\"0 0 24 24\"\n",
              "       width=\"24px\">\n",
              "    <path d=\"M0 0h24v24H0V0z\" fill=\"none\"/>\n",
              "    <path d=\"M18.56 5.44l.94 2.06.94-2.06 2.06-.94-2.06-.94-.94-2.06-.94 2.06-2.06.94zm-11 1L8.5 8.5l.94-2.06 2.06-.94-2.06-.94L8.5 2.5l-.94 2.06-2.06.94zm10 10l.94 2.06.94-2.06 2.06-.94-2.06-.94-.94-2.06-.94 2.06-2.06.94z\"/><path d=\"M17.41 7.96l-1.37-1.37c-.4-.4-.92-.59-1.43-.59-.52 0-1.04.2-1.43.59L10.3 9.45l-7.72 7.72c-.78.78-.78 2.05 0 2.83L4 21.41c.39.39.9.59 1.41.59.51 0 1.02-.2 1.41-.59l7.78-7.78 2.81-2.81c.8-.78.8-2.07 0-2.86zM5.41 20L4 18.59l7.72-7.72 1.47 1.35L5.41 20z\"/>\n",
              "  </svg>\n",
              "      </button>\n",
              "      \n",
              "  <style>\n",
              "    .colab-df-container {\n",
              "      display:flex;\n",
              "      flex-wrap:wrap;\n",
              "      gap: 12px;\n",
              "    }\n",
              "\n",
              "    .colab-df-convert {\n",
              "      background-color: #E8F0FE;\n",
              "      border: none;\n",
              "      border-radius: 50%;\n",
              "      cursor: pointer;\n",
              "      display: none;\n",
              "      fill: #1967D2;\n",
              "      height: 32px;\n",
              "      padding: 0 0 0 0;\n",
              "      width: 32px;\n",
              "    }\n",
              "\n",
              "    .colab-df-convert:hover {\n",
              "      background-color: #E2EBFA;\n",
              "      box-shadow: 0px 1px 2px rgba(60, 64, 67, 0.3), 0px 1px 3px 1px rgba(60, 64, 67, 0.15);\n",
              "      fill: #174EA6;\n",
              "    }\n",
              "\n",
              "    [theme=dark] .colab-df-convert {\n",
              "      background-color: #3B4455;\n",
              "      fill: #D2E3FC;\n",
              "    }\n",
              "\n",
              "    [theme=dark] .colab-df-convert:hover {\n",
              "      background-color: #434B5C;\n",
              "      box-shadow: 0px 1px 3px 1px rgba(0, 0, 0, 0.15);\n",
              "      filter: drop-shadow(0px 1px 2px rgba(0, 0, 0, 0.3));\n",
              "      fill: #FFFFFF;\n",
              "    }\n",
              "  </style>\n",
              "\n",
              "      <script>\n",
              "        const buttonEl =\n",
              "          document.querySelector('#df-c4d53b3a-e41a-4b33-909d-bc322f02bc5d button.colab-df-convert');\n",
              "        buttonEl.style.display =\n",
              "          google.colab.kernel.accessAllowed ? 'block' : 'none';\n",
              "\n",
              "        async function convertToInteractive(key) {\n",
              "          const element = document.querySelector('#df-c4d53b3a-e41a-4b33-909d-bc322f02bc5d');\n",
              "          const dataTable =\n",
              "            await google.colab.kernel.invokeFunction('convertToInteractive',\n",
              "                                                     [key], {});\n",
              "          if (!dataTable) return;\n",
              "\n",
              "          const docLinkHtml = 'Like what you see? Visit the ' +\n",
              "            '<a target=\"_blank\" href=https://colab.research.google.com/notebooks/data_table.ipynb>data table notebook</a>'\n",
              "            + ' to learn more about interactive tables.';\n",
              "          element.innerHTML = '';\n",
              "          dataTable['output_type'] = 'display_data';\n",
              "          await google.colab.output.renderOutput(dataTable, element);\n",
              "          const docLink = document.createElement('div');\n",
              "          docLink.innerHTML = docLinkHtml;\n",
              "          element.appendChild(docLink);\n",
              "        }\n",
              "      </script>\n",
              "    </div>\n",
              "  </div>\n",
              "  "
            ],
            "text/plain": [
              "Empty DataFrame\n",
              "Columns: [Product, Age, Gender, Education, Marital Status, Usage, Fitness, Income, Miles]\n",
              "Index: []"
            ]
          },
          "execution_count": 81,
          "metadata": {},
          "output_type": "execute_result"
        }
      ],
      "source": [
        "sampleTM498=pd.DataFrame([],columns= df.columns)\n",
        "sampleTM498"
      ]
    },
    {
      "cell_type": "code",
      "execution_count": 82,
      "id": "dfe8c859",
      "metadata": {
        "id": "dfe8c859"
      },
      "outputs": [],
      "source": [
        "for i in random.sample(range(0,len(df_Product_TM498)),30):\n",
        "    sampleTM498=sampleTM498.append(df_Product_TM498.iloc[i,:])"
      ]
    },
    {
      "cell_type": "code",
      "execution_count": 83,
      "id": "b9c6522d",
      "metadata": {
        "colab": {
          "base_uri": "https://localhost:8080/",
          "height": 329
        },
        "id": "b9c6522d",
        "outputId": "b38af122-3d83-4f38-ccfd-826e5f1f178c"
      },
      "outputs": [
        {
          "data": {
            "image/png": "[encoded data removed]",
            "text/plain": [
              "<Figure size 720x576 with 6 Axes>"
            ]
          },
          "metadata": {
            "needs_background": "light"
          },
          "output_type": "display_data"
        }
      ],
      "source": [
        "l=1\n",
        "for i in num_col:\n",
        "    plt.subplot(3,3,l)\n",
        "    sampleTM498[i].hist(figsize=(10, 8))\n",
        "    l=l+1"
      ]
    },
    {
      "cell_type": "code",
      "execution_count": 84,
      "id": "2e870b49",
      "metadata": {
        "colab": {
          "base_uri": "https://localhost:8080/"
        },
        "id": "2e870b49",
        "outputId": "218799dd-4b58-4c70-cdb1-b9de0f716d60",
        "scrolled": true
      },
      "outputs": [
        {
          "name": "stderr",
          "output_type": "stream",
          "text": [
            "<ipython-input-84-5fe47b014a3d>:1: FutureWarning: Dropping of nuisance columns in DataFrame reductions (with 'numeric_only=None') is deprecated; in a future version this will raise TypeError.  Select only valid columns before calling the reduction.\n",
            "  sampleTM498.mean(),sampleTM498.std()\n"
          ]
        },
        {
          "data": {
            "text/plain": [
              "(Age             28.700000\n",
              " Education       15.233333\n",
              " Usage            3.200000\n",
              " Fitness          2.900000\n",
              " Income       48739.400000\n",
              " Miles           88.686667\n",
              " dtype: float64, Age             5.808139\n",
              " Education       1.165106\n",
              " Usage           0.664364\n",
              " Fitness         0.480660\n",
              " Income       6930.481163\n",
              " Miles          22.353504\n",
              " dtype: float64)"
            ]
          },
          "execution_count": 84,
          "metadata": {},
          "output_type": "execute_result"
        }
      ],
      "source": [
        "sampleTM498.mean(),sampleTM498.std()"
      ]
    },
    {
      "cell_type": "code",
      "execution_count": 85,
      "id": "23d146ec",
      "metadata": {
        "colab": {
          "base_uri": "https://localhost:8080/"
        },
        "id": "23d146ec",
        "outputId": "c8f18a05-2e24-4973-adf9-00125a715de5"
      },
      "outputs": [
        {
          "name": "stdout",
          "output_type": "stream",
          "text": [
            "90% confidence interval for Age is (26.89821798180733, 30.501782018192667)\n",
            "90% confidence interval for Education is (14.871898052599045, 15.59476861406762)\n",
            "90% confidence interval for Usage is (2.9939032200628666, 3.406096779937134)\n",
            "90% confidence interval for Fitness is (2.7508910805785933, 3.0491089194214065)\n",
            "90% confidence interval for Income is (46589.448772164375, 50889.35122783563)\n",
            "90% confidence interval for Miles is (81.7522357751082, 95.62109755822513)\n"
          ]
        }
      ],
      "source": [
        "for i in col:\n",
        "    #create 90% confidence interval for population mean weight\n",
        "    data=sampleTM498[i]\n",
        "    print('90% confidence interval for',i,'is',st.t.interval(alpha=0.90, df=len(data)-1, loc=np.mean(data), scale=st.sem(data)))"
      ]
    },
    {
      "cell_type": "code",
      "execution_count": 86,
      "id": "3684d5c3",
      "metadata": {
        "colab": {
          "base_uri": "https://localhost:8080/"
        },
        "id": "3684d5c3",
        "outputId": "054edc23-dab8-4b1a-df18-a8122b61a2b3"
      },
      "outputs": [
        {
          "name": "stdout",
          "output_type": "stream",
          "text": [
            "92% confidence interval for Age is (26.776152040946357, 30.62384795905364)\n",
            "92% confidence interval for Education is (14.847411773372308, 15.619254893294357)\n",
            "92% confidence interval for Usage is (2.979940711225822, 3.420059288774178)\n",
            "92% confidence interval for Fitness is (2.740789347762881, 3.0592106522371187)\n",
            "92% confidence interval for Income is (46443.79529311911, 51035.00470688089)\n",
            "92% confidence interval for Miles is (81.28244652059973, 96.0908868127336)\n"
          ]
        }
      ],
      "source": [
        "for i in col:\n",
        "    #create 92% confidence interval for population mean weight\n",
        "    data=sampleTM498[i]\n",
        "    print('92% confidence interval for',i,'is',st.t.interval(alpha=0.92, df=len(data)-1, loc=np.mean(data), scale=st.sem(data)))"
      ]
    },
    {
      "cell_type": "code",
      "execution_count": 87,
      "id": "8dfa50c0",
      "metadata": {
        "colab": {
          "base_uri": "https://localhost:8080/"
        },
        "id": "8dfa50c0",
        "outputId": "a5c8a2f4-272f-4c78-d469-52cbc59ce7b1"
      },
      "outputs": [
        {
          "name": "stdout",
          "output_type": "stream",
          "text": [
            "95% confidence interval for Age is (26.53120512196933, 30.86879487803067)\n",
            "95% confidence interval for Education is (14.798275719437067, 15.668390947229598)\n",
            "95% confidence interval for Usage is (2.951922465540739, 3.4480775344592614)\n",
            "95% confidence interval for Fitness is (2.720518432615829, 3.0794815673841707)\n",
            "95% confidence interval for Income is (46151.51580320753, 51327.284196792476)\n",
            "95% confidence interval for Miles is (80.33973121730784, 97.03360211602549)\n"
          ]
        }
      ],
      "source": [
        "for i in col:\n",
        "    #create 95% confidence interval for population mean weight\n",
        "    data=sampleTM498[i]\n",
        "    print('95% confidence interval for',i,'is',st.t.interval(alpha=0.95, df=len(data)-1, loc=np.mean(data), scale=st.sem(data)))"
      ]
    },
    {
      "cell_type": "code",
      "execution_count": 88,
      "id": "1acb5d1a",
      "metadata": {
        "colab": {
          "base_uri": "https://localhost:8080/"
        },
        "id": "1acb5d1a",
        "outputId": "5d5c5033-7eb3-408f-a013-90e59c094071"
      },
      "outputs": [
        {
          "name": "stdout",
          "output_type": "stream",
          "text": [
            "98% confidence interval for Age is (26.089232384717317, 31.310767615282682)\n",
            "98% confidence interval for Education is (14.709616526064819, 15.757050140601846)\n",
            "98% confidence interval for Usage is (2.901367427779284, 3.4986325722207163)\n",
            "98% confidence interval for Fitness is (2.6839423781320164, 3.1160576218679834)\n",
            "98% confidence interval for Income is (45624.138007486166, 51854.66199251384)\n",
            "98% confidence interval for Miles is (78.63873222215676, 98.73460111117657)\n"
          ]
        }
      ],
      "source": [
        "for i in col:\n",
        "    #create 98% confidence interval for population mean weight\n",
        "    data=sampleTM498[i]\n",
        "    print('98% confidence interval for',i,'is',st.t.interval(alpha=0.98, df=len(data)-1, loc=np.mean(data), scale=st.sem(data)))"
      ]
    },
    {
      "cell_type": "code",
      "execution_count": 89,
      "id": "33deacff",
      "metadata": {
        "colab": {
          "base_uri": "https://localhost:8080/"
        },
        "id": "33deacff",
        "outputId": "2c725919-ea4c-44c0-be36-bc4b049f0b57"
      },
      "outputs": [
        {
          "name": "stdout",
          "output_type": "stream",
          "text": [
            "99% confidence interval for Age is (25.777083420557876, 31.622916579442123)\n",
            "99% confidence interval for Education is (14.6469998236265, 15.819666843040165)\n",
            "99% confidence interval for Usage is (2.8656622782526484, 3.534337721747352)\n",
            "99% confidence interval for Fitness is (2.658110066412637, 3.141889933587363)\n",
            "99% confidence interval for Income is (45251.67061576728, 52227.12938423272)\n",
            "99% confidence interval for Miles is (77.43737967341369, 99.93595365991965)\n"
          ]
        }
      ],
      "source": [
        "for i in col:\n",
        "    #create 99% confidence interval for population mean weight\n",
        "    data=sampleTM498[i]\n",
        "    print('99% confidence interval for',i,'is',st.t.interval(alpha=0.99, df=len(data)-1, loc=np.mean(data), scale=st.sem(data)))"
      ]
    },
    {
      "cell_type": "code",
      "execution_count": 90,
      "id": "2ffce3ef",
      "metadata": {
        "id": "2ffce3ef"
      },
      "outputs": [],
      "source": [
        "df_TM498=list(np.zeros(75))\n",
        "for i in range(75):\n",
        "    df_TM498[i]=pd.DataFrame([],columns= df.columns)\n",
        "    for j in random.sample(range(0,len(df_Product_TM498)),30):\n",
        "        df_TM498[i]=df_TM498[i].append(df_Product_TM498.iloc[j,:])"
      ]
    },
    {
      "cell_type": "code",
      "execution_count": 91,
      "id": "9de86d99",
      "metadata": {
        "id": "9de86d99"
      },
      "outputs": [],
      "source": [
        "df_TM498_Age_mean=[]\n",
        "df_TM498_Edu_mean=[]\n",
        "df_TM498_Edu_mean=[]\n",
        "df_TM498_Usage_mean=[]\n",
        "df_TM498_Fitness_mean=[]\n",
        "df_TM498_Income_mean=[]\n",
        "df_TM498_Miles_mean=[]"
      ]
    },
    {
      "cell_type": "code",
      "execution_count": 92,
      "id": "62ae1957",
      "metadata": {
        "id": "62ae1957"
      },
      "outputs": [],
      "source": [
        "for i in range(75):\n",
        "    df_TM498_Age_mean.append(df_TM498[i]['Age'].mean())\n",
        "for i in range(75):\n",
        "    df_TM498_Edu_mean.append(df_TM498[i]['Education'].mean())\n",
        "for i in range(75):\n",
        "    df_TM498_Usage_mean.append(df_TM498[i]['Usage'].mean())\n",
        "for i in range(75):\n",
        "    df_TM498_Fitness_mean.append(df_TM498[i]['Fitness'].mean())\n",
        "for i in range(75):\n",
        "    df_TM498_Income_mean.append(df_TM498[i]['Income'].mean())\n",
        "for i in range(75):\n",
        "    df_TM498_Miles_mean.append(df_TM498[i]['Miles'].mean())"
      ]
    },
    {
      "cell_type": "code",
      "execution_count": 93,
      "id": "18895b89",
      "metadata": {
        "id": "18895b89"
      },
      "outputs": [],
      "source": [
        "TM498_Age_mean=sum(df_TM498_Age_mean)/75\n",
        "TM498_Edu_mean=sum(df_TM498_Edu_mean)/75\n",
        "TM498_Usage_mean=sum(df_TM498_Usage_mean)/75\n",
        "TM498_Fitness_mean=sum(df_TM498_Fitness_mean)/75\n",
        "TM498_Income_mean=sum(df_TM498_Income_mean)/75\n",
        "TM498_Miles_mean=sum(df_TM498_Miles_mean)/75"
      ]
    },
    {
      "cell_type": "code",
      "execution_count": 94,
      "id": "6c28fa09",
      "metadata": {
        "id": "6c28fa09"
      },
      "outputs": [],
      "source": [
        "TM498_Age_std=sts.stdev(df_TM498_Age_mean)\n",
        "TM498_Edu_std=sts.stdev(df_TM498_Edu_mean)\n",
        "TM498_Usage_std=sts.stdev(df_TM498_Usage_mean)\n",
        "TM498_Fitness_std=sts.stdev(df_TM498_Fitness_mean)\n",
        "TM498_Income_std=sts.stdev(df_TM498_Income_mean)\n",
        "TM498_Miles_std=sts.stdev(df_TM498_Miles_mean)"
      ]
    },
    {
      "attachments": {},
      "cell_type": "markdown",
      "id": "1a6af585",
      "metadata": {
        "id": "1a6af585"
      },
      "source": [
        "##### Prodcut TM798"
      ]
    },
    {
      "cell_type": "code",
      "execution_count": 95,
      "id": "77a3674f",
      "metadata": {
        "colab": {
          "base_uri": "https://localhost:8080/",
          "height": 49
        },
        "id": "77a3674f",
        "outputId": "fb7254d1-6c48-4a67-9d0d-a227e7445f66"
      },
      "outputs": [
        {
          "data": {
            "text/html": [
              "\n",
              "  <div id=\"df-b92b52ba-f987-42ed-af23-4229b7dbff8f\">\n",
              "    <div class=\"colab-df-container\">\n",
              "      <div>\n",
              "<style scoped>\n",
              "    .dataframe tbody tr th:only-of-type {\n",
              "        vertical-align: middle;\n",
              "    }\n",
              "\n",
              "    .dataframe tbody tr th {\n",
              "        vertical-align: top;\n",
              "    }\n",
              "\n",
              "    .dataframe thead th {\n",
              "        text-align: right;\n",
              "    }\n",
              "</style>\n",
              "<table border=\"1\" class=\"dataframe\">\n",
              "  <thead>\n",
              "    <tr style=\"text-align: right;\">\n",
              "      <th></th>\n",
              "      <th>Product</th>\n",
              "      <th>Age</th>\n",
              "      <th>Gender</th>\n",
              "      <th>Education</th>\n",
              "      <th>Marital Status</th>\n",
              "      <th>Usage</th>\n",
              "      <th>Fitness</th>\n",
              "      <th>Income</th>\n",
              "      <th>Miles</th>\n",
              "    </tr>\n",
              "  </thead>\n",
              "  <tbody>\n",
              "  </tbody>\n",
              "</table>\n",
              "</div>\n",
              "      <button class=\"colab-df-convert\" onclick=\"convertToInteractive('df-b92b52ba-f987-42ed-af23-4229b7dbff8f')\"\n",
              "              title=\"Convert this dataframe to an interactive table.\"\n",
              "              style=\"display:none;\">\n",
              "        \n",
              "  <svg xmlns=\"http://www.w3.org/2000/svg\" height=\"24px\"viewBox=\"0 0 24 24\"\n",
              "       width=\"24px\">\n",
              "    <path d=\"M0 0h24v24H0V0z\" fill=\"none\"/>\n",
              "    <path d=\"M18.56 5.44l.94 2.06.94-2.06 2.06-.94-2.06-.94-.94-2.06-.94 2.06-2.06.94zm-11 1L8.5 8.5l.94-2.06 2.06-.94-2.06-.94L8.5 2.5l-.94 2.06-2.06.94zm10 10l.94 2.06.94-2.06 2.06-.94-2.06-.94-.94-2.06-.94 2.06-2.06.94z\"/><path d=\"M17.41 7.96l-1.37-1.37c-.4-.4-.92-.59-1.43-.59-.52 0-1.04.2-1.43.59L10.3 9.45l-7.72 7.72c-.78.78-.78 2.05 0 2.83L4 21.41c.39.39.9.59 1.41.59.51 0 1.02-.2 1.41-.59l7.78-7.78 2.81-2.81c.8-.78.8-2.07 0-2.86zM5.41 20L4 18.59l7.72-7.72 1.47 1.35L5.41 20z\"/>\n",
              "  </svg>\n",
              "      </button>\n",
              "      \n",
              "  <style>\n",
              "    .colab-df-container {\n",
              "      display:flex;\n",
              "      flex-wrap:wrap;\n",
              "      gap: 12px;\n",
              "    }\n",
              "\n",
              "    .colab-df-convert {\n",
              "      background-color: #E8F0FE;\n",
              "      border: none;\n",
              "      border-radius: 50%;\n",
              "      cursor: pointer;\n",
              "      display: none;\n",
              "      fill: #1967D2;\n",
              "      height: 32px;\n",
              "      padding: 0 0 0 0;\n",
              "      width: 32px;\n",
              "    }\n",
              "\n",
              "    .colab-df-convert:hover {\n",
              "      background-color: #E2EBFA;\n",
              "      box-shadow: 0px 1px 2px rgba(60, 64, 67, 0.3), 0px 1px 3px 1px rgba(60, 64, 67, 0.15);\n",
              "      fill: #174EA6;\n",
              "    }\n",
              "\n",
              "    [theme=dark] .colab-df-convert {\n",
              "      background-color: #3B4455;\n",
              "      fill: #D2E3FC;\n",
              "    }\n",
              "\n",
              "    [theme=dark] .colab-df-convert:hover {\n",
              "      background-color: #434B5C;\n",
              "      box-shadow: 0px 1px 3px 1px rgba(0, 0, 0, 0.15);\n",
              "      filter: drop-shadow(0px 1px 2px rgba(0, 0, 0, 0.3));\n",
              "      fill: #FFFFFF;\n",
              "    }\n",
              "  </style>\n",
              "\n",
              "      <script>\n",
              "        const buttonEl =\n",
              "          document.querySelector('#df-b92b52ba-f987-42ed-af23-4229b7dbff8f button.colab-df-convert');\n",
              "        buttonEl.style.display =\n",
              "          google.colab.kernel.accessAllowed ? 'block' : 'none';\n",
              "\n",
              "        async function convertToInteractive(key) {\n",
              "          const element = document.querySelector('#df-b92b52ba-f987-42ed-af23-4229b7dbff8f');\n",
              "          const dataTable =\n",
              "            await google.colab.kernel.invokeFunction('convertToInteractive',\n",
              "                                                     [key], {});\n",
              "          if (!dataTable) return;\n",
              "\n",
              "          const docLinkHtml = 'Like what you see? Visit the ' +\n",
              "            '<a target=\"_blank\" href=https://colab.research.google.com/notebooks/data_table.ipynb>data table notebook</a>'\n",
              "            + ' to learn more about interactive tables.';\n",
              "          element.innerHTML = '';\n",
              "          dataTable['output_type'] = 'display_data';\n",
              "          await google.colab.output.renderOutput(dataTable, element);\n",
              "          const docLink = document.createElement('div');\n",
              "          docLink.innerHTML = docLinkHtml;\n",
              "          element.appendChild(docLink);\n",
              "        }\n",
              "      </script>\n",
              "    </div>\n",
              "  </div>\n",
              "  "
            ],
            "text/plain": [
              "Empty DataFrame\n",
              "Columns: [Product, Age, Gender, Education, Marital Status, Usage, Fitness, Income, Miles]\n",
              "Index: []"
            ]
          },
          "execution_count": 95,
          "metadata": {},
          "output_type": "execute_result"
        }
      ],
      "source": [
        "sampleTM798=pd.DataFrame([],columns= df.columns)\n",
        "sampleTM798"
      ]
    },
    {
      "cell_type": "code",
      "execution_count": 96,
      "id": "70c868c7",
      "metadata": {
        "id": "70c868c7"
      },
      "outputs": [],
      "source": [
        "for i in random.sample(range(0,len(df_Product_TM798)),30):\n",
        "    sampleTM798=sampleTM798.append(df_Product_TM798.iloc[i,:])"
      ]
    },
    {
      "cell_type": "code",
      "execution_count": 97,
      "id": "6455c915",
      "metadata": {
        "colab": {
          "base_uri": "https://localhost:8080/",
          "height": 329
        },
        "id": "6455c915",
        "outputId": "4baf6668-d95d-47ed-dcc6-44a2cfb544af"
      },
      "outputs": [
        {
          "data": {
            "image/png": "[encoded data removed]",
            "text/plain": [
              "<Figure size 720x576 with 6 Axes>"
            ]
          },
          "metadata": {
            "needs_background": "light"
          },
          "output_type": "display_data"
        }
      ],
      "source": [
        "l=1\n",
        "for i in num_col:\n",
        "    plt.subplot(3,3,l)\n",
        "    sampleTM798[i].hist(figsize=(10, 8))\n",
        "    l=l+1"
      ]
    },
    {
      "cell_type": "code",
      "execution_count": 98,
      "id": "2d056a04",
      "metadata": {
        "colab": {
          "base_uri": "https://localhost:8080/"
        },
        "id": "2d056a04",
        "outputId": "ca95885e-f85e-4d6f-83b6-cb991f35a960"
      },
      "outputs": [
        {
          "name": "stderr",
          "output_type": "stream",
          "text": [
            "<ipython-input-98-0305cde30ce5>:1: FutureWarning: Dropping of nuisance columns in DataFrame reductions (with 'numeric_only=None') is deprecated; in a future version this will raise TypeError.  Select only valid columns before calling the reduction.\n",
            "  sampleTM798.mean(),sampleTM798.std()\n"
          ]
        },
        {
          "data": {
            "text/plain": [
              "(Age             29.200000\n",
              " Education       17.333333\n",
              " Usage            4.800000\n",
              " Fitness          4.633333\n",
              " Income       77223.966667\n",
              " Miles          170.200000\n",
              " dtype: float64, Age              7.227343\n",
              " Education        1.667816\n",
              " Usage            1.030567\n",
              " Fitness          0.668675\n",
              " Income       17902.988913\n",
              " Miles           63.841074\n",
              " dtype: float64)"
            ]
          },
          "execution_count": 98,
          "metadata": {},
          "output_type": "execute_result"
        }
      ],
      "source": [
        "sampleTM798.mean(),sampleTM798.std()"
      ]
    },
    {
      "cell_type": "code",
      "execution_count": 99,
      "id": "27b26c53",
      "metadata": {
        "colab": {
          "base_uri": "https://localhost:8080/"
        },
        "id": "27b26c53",
        "outputId": "ca79551b-92d1-4a4e-e5d2-81841903c3bd"
      },
      "outputs": [
        {
          "name": "stdout",
          "output_type": "stream",
          "text": [
            "90% confidence interval for Age is (26.957957350242417, 31.442042649757582)\n",
            "90% confidence interval for Education is (16.81594899607991, 17.85071767058675)\n",
            "90% confidence interval for Usage is (4.480300777686322, 5.1196992223136775)\n",
            "90% confidence interval for Fitness is (4.4258991170386635, 4.840767549628004)\n",
            "90% confidence interval for Income is (71670.15992607042, 82777.7734072629)\n",
            "90% confidence interval for Miles is (150.39543048979178, 190.0045695102082)\n"
          ]
        }
      ],
      "source": [
        "for i in col:\n",
        "    #create 90% confidence interval for population mean weight\n",
        "    data=sampleTM798[i]\n",
        "    print('90% confidence interval for',i,'is',st.t.interval(alpha=0.90, df=len(data)-1, loc=np.mean(data), scale=st.sem(data)))"
      ]
    },
    {
      "cell_type": "code",
      "execution_count": 100,
      "id": "c4b3e6a6",
      "metadata": {
        "colab": {
          "base_uri": "https://localhost:8080/"
        },
        "id": "c4b3e6a6",
        "outputId": "3f3603ef-f33c-4c49-aef2-c21ab92a3162"
      },
      "outputs": [
        {
          "name": "stdout",
          "output_type": "stream",
          "text": [
            "92% confidence interval for Age is (26.806064922229616, 31.593935077770382)\n",
            "92% confidence interval for Education is (16.780897582936763, 17.8857690837299)\n",
            "92% confidence interval for Usage is (4.4586420054429485, 5.141357994557051)\n",
            "92% confidence interval for Fitness is (4.411846000444589, 4.8548206662220785)\n",
            "92% confidence interval for Income is (71293.90428676123, 83154.02904657209)\n",
            "92% confidence interval for Miles is (149.05372356509116, 191.34627643490882)\n"
          ]
        }
      ],
      "source": [
        "for i in col:\n",
        "    #create 92% confidence interval for population mean weight\n",
        "    data=sampleTM798[i]\n",
        "    print('92% confidence interval for',i,'is',st.t.interval(alpha=0.92, df=len(data)-1, loc=np.mean(data), scale=st.sem(data)))\n"
      ]
    },
    {
      "cell_type": "code",
      "execution_count": 101,
      "id": "61f24bca",
      "metadata": {
        "colab": {
          "base_uri": "https://localhost:8080/"
        },
        "id": "61f24bca",
        "outputId": "957cb5c9-8a64-470a-e833-c0cb7e829df2"
      },
      "outputs": [
        {
          "name": "stdout",
          "output_type": "stream",
          "text": [
            "95% confidence interval for Age is (26.50126587676901, 31.898734123230987)\n",
            "95% confidence interval for Education is (16.710560717512653, 17.95610594915401)\n",
            "95% confidence interval for Usage is (4.415179844807314, 5.184820155192686)\n",
            "95% confidence interval for Fitness is (4.3836459342552505, 4.883020732411417)\n",
            "95% confidence interval for Income is (70538.88074009077, 83909.05259324255)\n",
            "95% confidence interval for Miles is (146.36135110593105, 194.03864889406893)\n"
          ]
        }
      ],
      "source": [
        "for i in col:\n",
        "    #create 95% confidence interval for population mean weight\n",
        "    data=sampleTM798[i]\n",
        "    print('95% confidence interval for',i,'is',st.t.interval(alpha=0.95, df=len(data)-1, loc=np.mean(data), scale=st.sem(data)))"
      ]
    },
    {
      "cell_type": "code",
      "execution_count": 102,
      "id": "f37b87e3",
      "metadata": {
        "colab": {
          "base_uri": "https://localhost:8080/"
        },
        "id": "f37b87e3",
        "outputId": "b6579c06-7e29-4bbc-abe6-b681cf7fa4ab"
      },
      "outputs": [
        {
          "name": "stdout",
          "output_type": "stream",
          "text": [
            "98% confidence interval for Age is (25.951298279721343, 32.448701720278656)\n",
            "98% confidence interval for Education is (16.58364760069923, 18.083019065967434)\n",
            "98% confidence interval for Usage is (4.3367584048347645, 5.263241595165235)\n",
            "98% confidence interval for Fitness is (4.3327628266152685, 4.933903840051399)\n",
            "98% confidence interval for Income is (69176.54548392465, 85271.38784940867)\n",
            "98% confidence interval for Miles is (141.5033384783522, 198.8966615216478)\n"
          ]
        }
      ],
      "source": [
        "for i in col:\n",
        "    #create 98% confidence interval for population mean weight\n",
        "    data=sampleTM798[i]\n",
        "    print('98% confidence interval for',i,'is',st.t.interval(alpha=0.98, df=len(data)-1, loc=np.mean(data), scale=st.sem(data)))"
      ]
    },
    {
      "cell_type": "code",
      "execution_count": 103,
      "id": "2618036a",
      "metadata": {
        "colab": {
          "base_uri": "https://localhost:8080/"
        },
        "id": "2618036a",
        "outputId": "10ee6a9f-6f49-4544-817a-76836b5c8feb"
      },
      "outputs": [
        {
          "name": "stdout",
          "output_type": "stream",
          "text": [
            "99% confidence interval for Age is (25.562876548537055, 32.83712345146294)\n",
            "99% confidence interval for Education is (16.494013569881243, 18.17265309678542)\n",
            "99% confidence interval for Usage is (4.281372248196408, 5.318627751803592)\n",
            "99% confidence interval for Fitness is (4.296825973492183, 4.9698406931744845)\n",
            "99% confidence interval for Income is (68214.37858264889, 86233.55475068443)\n",
            "99% confidence interval for Miles is (138.07230420460795, 202.32769579539203)\n"
          ]
        }
      ],
      "source": [
        "for i in col:\n",
        "    #create 99% confidence interval for population mean weight\n",
        "    data=sampleTM798[i]\n",
        "    print('99% confidence interval for',i,'is',st.t.interval(alpha=0.99, df=len(data)-1, loc=np.mean(data), scale=st.sem(data)))"
      ]
    },
    {
      "attachments": {},
      "cell_type": "markdown",
      "id": "056b24f0",
      "metadata": {
        "id": "056b24f0"
      },
      "source": [
        "##### "
      ]
    },
    {
      "cell_type": "code",
      "execution_count": 104,
      "id": "fa1f2554",
      "metadata": {
        "id": "fa1f2554"
      },
      "outputs": [],
      "source": [
        "df_TM798=list(np.zeros(75))\n",
        "for i in range(75):\n",
        "    df_TM798[i]=pd.DataFrame([],columns= df.columns)\n",
        "    for j in random.sample(range(0,len(df_Product_TM798)),30):\n",
        "        df_TM798[i]=df_TM798[i].append(df_Product_TM798.iloc[j,:])"
      ]
    },
    {
      "cell_type": "code",
      "execution_count": 105,
      "id": "1f7e25e4",
      "metadata": {
        "id": "1f7e25e4"
      },
      "outputs": [],
      "source": [
        "df_TM798_Age_mean=[]\n",
        "df_TM798_Edu_mean=[]\n",
        "df_TM798_Edu_mean=[]\n",
        "df_TM798_Usage_mean=[]\n",
        "df_TM798_Fitness_mean=[]\n",
        "df_TM798_Income_mean=[]\n",
        "df_TM798_Miles_mean=[]"
      ]
    },
    {
      "cell_type": "code",
      "execution_count": 106,
      "id": "b25d7ed4",
      "metadata": {
        "id": "b25d7ed4"
      },
      "outputs": [],
      "source": [
        "for i in range(75):\n",
        "    df_TM798_Age_mean.append(df_TM798[i]['Age'].mean())\n",
        "for i in range(75):\n",
        "    df_TM798_Edu_mean.append(df_TM798[i]['Education'].mean())\n",
        "for i in range(75):\n",
        "    df_TM798_Usage_mean.append(df_TM798[i]['Usage'].mean())\n",
        "for i in range(75):\n",
        "    df_TM798_Fitness_mean.append(df_TM798[i]['Fitness'].mean())\n",
        "for i in range(75):\n",
        "    df_TM798_Income_mean.append(df_TM798[i]['Income'].mean())\n",
        "for i in range(75):\n",
        "    df_TM798_Miles_mean.append(df_TM798[i]['Miles'].mean())"
      ]
    },
    {
      "cell_type": "code",
      "execution_count": 107,
      "id": "92b0bb21",
      "metadata": {
        "id": "92b0bb21"
      },
      "outputs": [],
      "source": [
        "TM798_Age_mean=sum(df_TM798_Age_mean)/75\n",
        "TM798_Edu_mean=sum(df_TM798_Edu_mean)/75\n",
        "TM798_Usage_mean=sum(df_TM798_Usage_mean)/75\n",
        "TM798_Fitness_mean=sum(df_TM798_Fitness_mean)/75\n",
        "TM798_Income_mean=sum(df_TM798_Income_mean)/75\n",
        "TM798_Miles_mean=sum(df_TM798_Miles_mean)/75"
      ]
    },
    {
      "cell_type": "code",
      "execution_count": 108,
      "id": "ac65672c",
      "metadata": {
        "id": "ac65672c"
      },
      "outputs": [],
      "source": [
        "TM798_Age_std=sts.stdev(df_TM798_Age_mean)\n",
        "TM798_Edu_std=sts.stdev(df_TM798_Edu_mean)\n",
        "TM798_Usage_std=sts.stdev(df_TM798_Usage_mean)\n",
        "TM798_Fitness_std=sts.stdev(df_TM798_Fitness_mean)\n",
        "TM798_Income_std=sts.stdev(df_TM798_Income_mean)\n",
        "TM798_Miles_std=sts.stdev(df_TM798_Miles_mean)"
      ]
    },
    {
      "attachments": {},
      "cell_type": "markdown",
      "id": "8b51f5eb",
      "metadata": {
        "id": "8b51f5eb"
      },
      "source": [
        "## Hypothesis Testing"
      ]
    },
    {
      "attachments": {},
      "cell_type": "markdown",
      "id": "393a4040",
      "metadata": {
        "id": "393a4040"
      },
      "source": [
        "##### Hypothesis1:\n",
        "###### considering higher age people uses TM798 than other products(so TM195<TM498, TM498<TM798)\n",
        "case1-\n",
        "H0: TM195-TM498>=0;     \n",
        "H1: TM195-TM498<0\n",
        "\n",
        "case2-\n",
        "H0: TM498-TM798>=0;    \n",
        "H1: TM498-TM798<0\n",
        "\n",
        "case3-\n",
        "H0: TM195-TM798>=0;     \n",
        "H1: TM195-TM798<0"
      ]
    },
    {
      "cell_type": "code",
      "execution_count": 109,
      "id": "f4b9ce40",
      "metadata": {
        "colab": {
          "base_uri": "https://localhost:8080/"
        },
        "id": "f4b9ce40",
        "outputId": "1e488f69-da06-4eca-fd37-56c74c6e0678"
      },
      "outputs": [
        {
          "data": {
            "text/plain": [
              "-2.2305888165736483"
            ]
          },
          "execution_count": 109,
          "metadata": {},
          "output_type": "execute_result"
        }
      ],
      "source": [
        "z1=(TM195_Age_mean-TM498_Age_mean)/(((TM195_Age_std**2)+(TM498_Age_std**2))/50)**0.5\n",
        "z1"
      ]
    },
    {
      "cell_type": "code",
      "execution_count": 110,
      "id": "053e4b59",
      "metadata": {
        "colab": {
          "base_uri": "https://localhost:8080/"
        },
        "id": "053e4b59",
        "outputId": "f28de651-d35c-4bf4-ef02-1d782941045c"
      },
      "outputs": [
        {
          "data": {
            "text/plain": [
              "0.012854189135474967"
            ]
          },
          "execution_count": 110,
          "metadata": {},
          "output_type": "execute_result"
        }
      ],
      "source": [
        "import scipy.stats\n",
        "p_value = scipy.stats.norm.sf(abs(z1))\n",
        "p_value"
      ]
    },
    {
      "cell_type": "code",
      "execution_count": 111,
      "id": "7e36eb3c",
      "metadata": {
        "colab": {
          "base_uri": "https://localhost:8080/"
        },
        "id": "7e36eb3c",
        "outputId": "dbf05911-2c00-4bb6-b671-de22a98c82e5"
      },
      "outputs": [
        {
          "name": "stdout",
          "output_type": "stream",
          "text": [
            "Reject Null Hypothesis ,Age of TM195<TM498\n"
          ]
        }
      ],
      "source": [
        "if p_value>0.05:\n",
        "    print(\"Accept Null Hypothesis,Age of TM195>=TM498\")\n",
        "else:\n",
        "    print(\"Reject Null Hypothesis ,Age of TM195<TM498\")"
      ]
    },
    {
      "cell_type": "code",
      "execution_count": 112,
      "id": "033c0d68",
      "metadata": {
        "colab": {
          "base_uri": "https://localhost:8080/"
        },
        "id": "033c0d68",
        "outputId": "733de5f6-21a8-4731-9969-d2310fb6180e"
      },
      "outputs": [
        {
          "data": {
            "text/plain": [
              "-1.6657482772149856"
            ]
          },
          "execution_count": 112,
          "metadata": {},
          "output_type": "execute_result"
        }
      ],
      "source": [
        "z2=(TM498_Age_mean-TM798_Age_mean)/(((TM498_Age_std**2)+(TM798_Age_std**2))/50)**0.5\n",
        "z2"
      ]
    },
    {
      "cell_type": "code",
      "execution_count": 113,
      "id": "69d11d36",
      "metadata": {
        "colab": {
          "base_uri": "https://localhost:8080/"
        },
        "id": "69d11d36",
        "outputId": "c00b3cc4-aed1-4527-c6ae-dd7219413c67"
      },
      "outputs": [
        {
          "data": {
            "text/plain": [
              "0.047881780969692915"
            ]
          },
          "execution_count": 113,
          "metadata": {},
          "output_type": "execute_result"
        }
      ],
      "source": [
        "p_value2 = scipy.stats.norm.sf(abs(z2))\n",
        "p_value2"
      ]
    },
    {
      "cell_type": "code",
      "execution_count": 114,
      "id": "f633ff9f",
      "metadata": {
        "colab": {
          "base_uri": "https://localhost:8080/"
        },
        "id": "f633ff9f",
        "outputId": "8deeedf7-9877-43e0-ae1b-d2d0e6305b43"
      },
      "outputs": [
        {
          "name": "stdout",
          "output_type": "stream",
          "text": [
            "Reject Null Hypothesis ,Age of TM498<TM798\n"
          ]
        }
      ],
      "source": [
        "if  p_value2>0.05:\n",
        "    print(\"Accept Null Hypothesis ,Age of TM498>=TM798\")\n",
        "else:\n",
        "    print(\"Reject Null Hypothesis ,Age of TM498<TM798\")"
      ]
    },
    {
      "cell_type": "code",
      "execution_count": 115,
      "id": "fdc9c13c",
      "metadata": {
        "colab": {
          "base_uri": "https://localhost:8080/"
        },
        "id": "fdc9c13c",
        "outputId": "45cf9fa5-af9b-4676-db60-dd5312751500"
      },
      "outputs": [
        {
          "data": {
            "text/plain": [
              "-3.9571843937825144"
            ]
          },
          "execution_count": 115,
          "metadata": {},
          "output_type": "execute_result"
        }
      ],
      "source": [
        "z3=(TM195_Age_mean-TM798_Age_mean)/(((TM195_Age_std**2)+(TM798_Age_std**2))/50)**0.5\n",
        "z3"
      ]
    },
    {
      "cell_type": "code",
      "execution_count": 116,
      "id": "f8cd6faf",
      "metadata": {
        "colab": {
          "base_uri": "https://localhost:8080/"
        },
        "id": "f8cd6faf",
        "outputId": "e519cfd6-db04-46dc-e4d6-9bada83565c8"
      },
      "outputs": [
        {
          "data": {
            "text/plain": [
              "3.7919194292071995e-05"
            ]
          },
          "execution_count": 116,
          "metadata": {},
          "output_type": "execute_result"
        }
      ],
      "source": [
        "p_value3 = scipy.stats.norm.sf(abs(z3))\n",
        "p_value3"
      ]
    },
    {
      "cell_type": "code",
      "execution_count": 117,
      "id": "4d8ec83f",
      "metadata": {
        "colab": {
          "base_uri": "https://localhost:8080/"
        },
        "id": "4d8ec83f",
        "outputId": "ccb5c8f6-070f-42cc-98b3-13d267d3c732"
      },
      "outputs": [
        {
          "name": "stdout",
          "output_type": "stream",
          "text": [
            " Reject Null Hypothesis,Age of TM195<TM798\n"
          ]
        }
      ],
      "source": [
        "if  p_value3>0.05:\n",
        "    print(\"Accept Null Hypothesis,Age of TM195>=TM798\")\n",
        "else:\n",
        "    print(\" Reject Null Hypothesis,Age of TM195<TM798\")"
      ]
    },
    {
      "attachments": {},
      "cell_type": "markdown",
      "id": "2f593560",
      "metadata": {
        "id": "2f593560"
      },
      "source": [
        "##### Hypothesis2:\n",
        "###### considering higher Education people uses TM798 than other products(so TM195<TM498, TM498<TM)\n",
        "case1-\n",
        "H0: TM195-TM498>=0;     \n",
        "H1: TM195-TM498<0\n",
        "\n",
        "case2-\n",
        "H0: TM498-TM798>=0;    \n",
        "H1: TM498-TM798<0"
      ]
    },
    {
      "cell_type": "code",
      "execution_count": 118,
      "id": "0a87fd80",
      "metadata": {
        "colab": {
          "base_uri": "https://localhost:8080/"
        },
        "id": "0a87fd80",
        "outputId": "5ac50b85-dd30-429d-cbba-a9d5e8f5e09e"
      },
      "outputs": [
        {
          "data": {
            "text/plain": [
              "-1.1740919632203117"
            ]
          },
          "execution_count": 118,
          "metadata": {},
          "output_type": "execute_result"
        }
      ],
      "source": [
        "z1=(TM195_Edu_mean-TM498_Edu_mean)/(((TM195_Edu_std**2)+(TM498_Edu_std**2))/50)**0.5\n",
        "z1"
      ]
    },
    {
      "cell_type": "code",
      "execution_count": 119,
      "id": "0f330693",
      "metadata": {
        "colab": {
          "base_uri": "https://localhost:8080/"
        },
        "id": "0f330693",
        "outputId": "d735ea95-b0dd-4707-d57a-e0c4075f8142"
      },
      "outputs": [
        {
          "data": {
            "text/plain": [
              "0.12017909610672961"
            ]
          },
          "execution_count": 119,
          "metadata": {},
          "output_type": "execute_result"
        }
      ],
      "source": [
        "import scipy.stats\n",
        "p_value = scipy.stats.norm.sf(abs(z1))\n",
        "p_value"
      ]
    },
    {
      "cell_type": "code",
      "execution_count": 120,
      "id": "1aeba41e",
      "metadata": {
        "colab": {
          "base_uri": "https://localhost:8080/"
        },
        "id": "1aeba41e",
        "outputId": "3f0e2863-86e3-40f6-8424-9e4e03c8f587"
      },
      "outputs": [
        {
          "name": "stdout",
          "output_type": "stream",
          "text": [
            "accept Null Hypothesis,Age of TM195>=TM498\n"
          ]
        }
      ],
      "source": [
        "if p_value>0.05:\n",
        "    print(\"accept Null Hypothesis,Age of TM195>=TM498\")\n",
        "else:\n",
        "    print(\"reject Null Hypothesis ,Age of TM195<TM498\")"
      ]
    },
    {
      "cell_type": "code",
      "execution_count": 121,
      "id": "8c0657a9",
      "metadata": {
        "colab": {
          "base_uri": "https://localhost:8080/"
        },
        "id": "8c0657a9",
        "outputId": "8bff9e64-a50e-4262-dd6d-618d51fbcb0d"
      },
      "outputs": [
        {
          "data": {
            "text/plain": [
              "-75.22018647843353"
            ]
          },
          "execution_count": 121,
          "metadata": {},
          "output_type": "execute_result"
        }
      ],
      "source": [
        "z2=(TM498_Edu_mean-TM798_Edu_mean)/(((TM498_Edu_std**2)+(TM798_Edu_std**2))/50)**0.5\n",
        "z2"
      ]
    },
    {
      "cell_type": "code",
      "execution_count": 122,
      "id": "6ffb4462",
      "metadata": {
        "colab": {
          "base_uri": "https://localhost:8080/"
        },
        "id": "6ffb4462",
        "outputId": "d1e51358-ba58-49c2-8b15-267e02cf7657"
      },
      "outputs": [
        {
          "data": {
            "text/plain": [
              "0.0"
            ]
          },
          "execution_count": 122,
          "metadata": {},
          "output_type": "execute_result"
        }
      ],
      "source": [
        "p_value2 = scipy.stats.norm.sf(abs(z2))\n",
        "p_value2"
      ]
    },
    {
      "cell_type": "code",
      "execution_count": 123,
      "id": "0c5d66d7",
      "metadata": {
        "colab": {
          "base_uri": "https://localhost:8080/"
        },
        "id": "0c5d66d7",
        "outputId": "370c3928-dea8-4ae6-de9b-d41157f713c6"
      },
      "outputs": [
        {
          "name": "stdout",
          "output_type": "stream",
          "text": [
            "Null Hypothesis reject,Age of TM498<TM798\n"
          ]
        }
      ],
      "source": [
        "if  p_value2>0.05:\n",
        "    print(\"Null Hypothesis accepted,Age of TM498>=TM798\")\n",
        "else:\n",
        "    print(\"Null Hypothesis reject,Age of TM498<TM798\")"
      ]
    },
    {
      "attachments": {},
      "cell_type": "markdown",
      "id": "84181c26",
      "metadata": {
        "id": "84181c26"
      },
      "source": [
        "### Hypothesis3:\n",
        "###### considering higher Usage people uses TM798 than other products(so TM195<TM498, TM498<TM)\n",
        "case1-\n",
        "H0: TM195-TM498>=0;     \n",
        "H1: TM195-TM498<0\n",
        "\n",
        "case2-\n",
        "H0: TM498-TM798>=0;    \n",
        "H1: TM498-TM798<0\n",
        "\n",
        "case3-\n",
        "H0: TM195-TM798>=0;     \n",
        "H1: TM195-TM798<0"
      ]
    },
    {
      "cell_type": "code",
      "execution_count": 124,
      "id": "99b208e0",
      "metadata": {
        "colab": {
          "base_uri": "https://localhost:8080/"
        },
        "id": "99b208e0",
        "outputId": "fc02adf8-1de8-424f-d028-45484e04f335"
      },
      "outputs": [
        {
          "data": {
            "text/plain": [
              "0.03946342553712113"
            ]
          },
          "execution_count": 124,
          "metadata": {},
          "output_type": "execute_result"
        }
      ],
      "source": [
        "z1=(TM195_Usage_mean-TM498_Usage_mean)/(((TM195_Usage_std**2)+(TM498_Usage_std**2))/50)**0.5\n",
        "z1"
      ]
    },
    {
      "cell_type": "code",
      "execution_count": 125,
      "id": "c117259b",
      "metadata": {
        "colab": {
          "base_uri": "https://localhost:8080/"
        },
        "id": "c117259b",
        "outputId": "4fb7f299-fd71-4f06-ebac-af5a82a25ebd"
      },
      "outputs": [
        {
          "data": {
            "text/plain": [
              "0.4842604564908073"
            ]
          },
          "execution_count": 125,
          "metadata": {},
          "output_type": "execute_result"
        }
      ],
      "source": [
        "p_value = scipy.stats.norm.sf(abs(z1))\n",
        "p_value"
      ]
    },
    {
      "cell_type": "code",
      "execution_count": 126,
      "id": "78b0c85e",
      "metadata": {
        "colab": {
          "base_uri": "https://localhost:8080/"
        },
        "id": "78b0c85e",
        "outputId": "6cb46e18-8d54-4112-fc87-39051bca457c"
      },
      "outputs": [
        {
          "name": "stdout",
          "output_type": "stream",
          "text": [
            "Null Hypothesis accepted,Age of TM195>=TM498\n"
          ]
        }
      ],
      "source": [
        "if p_value>0.05:\n",
        "    print(\"Null Hypothesis accepted,Age of TM195>=TM498\")\n",
        "else:\n",
        "    print(\"Null Hypothesis rejected,Age of TM195<TM498\")"
      ]
    },
    {
      "cell_type": "code",
      "execution_count": 127,
      "id": "7f368dc9",
      "metadata": {
        "colab": {
          "base_uri": "https://localhost:8080/"
        },
        "id": "7f368dc9",
        "outputId": "523f7c8b-639b-4d3f-b8ab-6c5f23047ff1"
      },
      "outputs": [
        {
          "data": {
            "text/plain": [
              "-91.54821270979397"
            ]
          },
          "execution_count": 127,
          "metadata": {},
          "output_type": "execute_result"
        }
      ],
      "source": [
        "z2=(TM498_Usage_mean-TM798_Usage_mean)/(((TM498_Usage_std**2)+(TM798_Usage_std**2))/50)**0.5\n",
        "z2"
      ]
    },
    {
      "cell_type": "code",
      "execution_count": 128,
      "id": "8c3a48c7",
      "metadata": {
        "colab": {
          "base_uri": "https://localhost:8080/"
        },
        "id": "8c3a48c7",
        "outputId": "1931c973-8125-41e0-907f-d224042b1d6e"
      },
      "outputs": [
        {
          "data": {
            "text/plain": [
              "0.0"
            ]
          },
          "execution_count": 128,
          "metadata": {},
          "output_type": "execute_result"
        }
      ],
      "source": [
        "p_value2 = scipy.stats.norm.sf(abs(z2))\n",
        "p_value2"
      ]
    },
    {
      "cell_type": "code",
      "execution_count": 129,
      "id": "4f7f55dd",
      "metadata": {
        "colab": {
          "base_uri": "https://localhost:8080/"
        },
        "id": "4f7f55dd",
        "outputId": "226ce6e5-91e5-4db2-9509-fda9e55e54e8"
      },
      "outputs": [
        {
          "name": "stdout",
          "output_type": "stream",
          "text": [
            "Null Hypothesis reject,Age of TM498<TM798\n"
          ]
        }
      ],
      "source": [
        "if  p_value2>0.05:\n",
        "    print(\"Null Hypothesis accepted,Age of TM498>=TM798\")\n",
        "else:\n",
        "    print(\"Null Hypothesis reject,Age of TM498<TM798\")"
      ]
    },
    {
      "cell_type": "code",
      "execution_count": 130,
      "id": "b342a5df",
      "metadata": {
        "colab": {
          "base_uri": "https://localhost:8080/"
        },
        "id": "b342a5df",
        "outputId": "349b34c4-ad04-4257-cb78-b344f1acc5fd"
      },
      "outputs": [
        {
          "data": {
            "text/plain": [
              "-80.05884752630243"
            ]
          },
          "execution_count": 130,
          "metadata": {},
          "output_type": "execute_result"
        }
      ],
      "source": [
        "z3=(TM195_Usage_mean-TM798_Usage_mean)/(((TM195_Usage_std**2)+(TM798_Usage_std**2))/50)**0.5\n",
        "z3\n"
      ]
    },
    {
      "cell_type": "code",
      "execution_count": 131,
      "id": "d220a8e5",
      "metadata": {
        "colab": {
          "base_uri": "https://localhost:8080/"
        },
        "id": "d220a8e5",
        "outputId": "c7d49a52-17ce-4edd-8a1e-129f7ba917a6"
      },
      "outputs": [
        {
          "data": {
            "text/plain": [
              "0.0"
            ]
          },
          "execution_count": 131,
          "metadata": {},
          "output_type": "execute_result"
        }
      ],
      "source": [
        "p_value3 = scipy.stats.norm.sf(abs(z3))\n",
        "p_value3\n"
      ]
    },
    {
      "cell_type": "code",
      "execution_count": 132,
      "id": "5a5be985",
      "metadata": {
        "colab": {
          "base_uri": "https://localhost:8080/"
        },
        "id": "5a5be985",
        "outputId": "a8899a8d-74b9-4d36-fb30-40c8f7a1f6e8"
      },
      "outputs": [
        {
          "name": "stdout",
          "output_type": "stream",
          "text": [
            "Null Hypothesis reject,Age of TM195<TM798\n"
          ]
        }
      ],
      "source": [
        "if  p_value3>0.05:\n",
        "    print(\"Null Hypothesis accepted,Age of TM195>=TM798\")\n",
        "else:\n",
        "    print(\"Null Hypothesis reject,Age of TM195<TM798\")"
      ]
    },
    {
      "attachments": {},
      "cell_type": "markdown",
      "id": "e5b6db66",
      "metadata": {
        "id": "e5b6db66"
      },
      "source": [
        "#### Hypothesis4:\n",
        "###### considering higher Fitness people uses TM798 than other products(so TM195<TM498, TM498<TM)\n",
        "case1-\n",
        "H0: TM195-TM498>=0;     \n",
        "H1: TM195-TM498<0\n",
        "\n",
        "case2-\n",
        "H0: TM498-TM798>=0;    \n",
        "H1: TM498-TM798<0"
      ]
    },
    {
      "cell_type": "code",
      "execution_count": 133,
      "id": "97421ffd",
      "metadata": {
        "colab": {
          "base_uri": "https://localhost:8080/"
        },
        "id": "97421ffd",
        "outputId": "3a890fdd-d6d7-49f2-97f1-503120bec6ca"
      },
      "outputs": [
        {
          "data": {
            "text/plain": [
              "3.30816279596074"
            ]
          },
          "execution_count": 133,
          "metadata": {},
          "output_type": "execute_result"
        }
      ],
      "source": [
        "z1=(TM195_Fitness_mean-TM498_Fitness_mean)/(((TM195_Fitness_std**2)+(TM498_Fitness_std**2))/50)**0.5\n",
        "z1"
      ]
    },
    {
      "cell_type": "code",
      "execution_count": 134,
      "id": "cb5dea34",
      "metadata": {
        "colab": {
          "base_uri": "https://localhost:8080/"
        },
        "id": "cb5dea34",
        "outputId": "8131f1e7-6029-4594-90f6-68d2fa7c34a7"
      },
      "outputs": [
        {
          "data": {
            "text/plain": [
              "0.0004695510094356725"
            ]
          },
          "execution_count": 134,
          "metadata": {},
          "output_type": "execute_result"
        }
      ],
      "source": [
        "p_value = scipy.stats.norm.sf(abs(z1))\n",
        "p_value"
      ]
    },
    {
      "cell_type": "code",
      "execution_count": 135,
      "id": "2ad6955a",
      "metadata": {
        "colab": {
          "base_uri": "https://localhost:8080/"
        },
        "id": "2ad6955a",
        "outputId": "e8ace5d7-5384-48f6-daad-8c6bde74e39c"
      },
      "outputs": [
        {
          "name": "stdout",
          "output_type": "stream",
          "text": [
            "Null Hypothesis rejected,Age of TM195<TM498\n"
          ]
        }
      ],
      "source": [
        "if p_value>0.05:\n",
        "    print(\"Null Hypothesis accepted,Age of TM195>=TM498\")\n",
        "else:\n",
        "    print(\"Null Hypothesis rejected,Age of TM195<TM498\")"
      ]
    },
    {
      "cell_type": "code",
      "execution_count": 136,
      "id": "ea32c636",
      "metadata": {
        "colab": {
          "base_uri": "https://localhost:8080/"
        },
        "id": "ea32c636",
        "outputId": "a31ac428-e7d3-4d3a-f4a1-2df3cd0711cb"
      },
      "outputs": [
        {
          "data": {
            "text/plain": [
              "-116.73499596910575"
            ]
          },
          "execution_count": 136,
          "metadata": {},
          "output_type": "execute_result"
        }
      ],
      "source": [
        "z2=(TM498_Fitness_mean-TM798_Fitness_mean)/(((TM498_Fitness_std**2)+(TM798_Fitness_std**2))/50)**0.5\n",
        "z2"
      ]
    },
    {
      "cell_type": "code",
      "execution_count": 137,
      "id": "47f7a52c",
      "metadata": {
        "colab": {
          "base_uri": "https://localhost:8080/"
        },
        "id": "47f7a52c",
        "outputId": "a50f11c0-d07b-4bd5-856c-d0e7475007e1"
      },
      "outputs": [
        {
          "data": {
            "text/plain": [
              "0.0"
            ]
          },
          "execution_count": 137,
          "metadata": {},
          "output_type": "execute_result"
        }
      ],
      "source": [
        "p_value2 = scipy.stats.norm.sf(abs(z2))\n",
        "p_value2"
      ]
    },
    {
      "cell_type": "code",
      "execution_count": 138,
      "id": "e628360a",
      "metadata": {
        "colab": {
          "base_uri": "https://localhost:8080/"
        },
        "id": "e628360a",
        "outputId": "2c9428d0-9051-4bf5-902c-21a6c8df1a53"
      },
      "outputs": [
        {
          "name": "stdout",
          "output_type": "stream",
          "text": [
            "Null Hypothesis reject,Age of TM498<TM798\n"
          ]
        }
      ],
      "source": [
        "if  p_value2>0.05:\n",
        "    print(\"Null Hypothesis accepted,Age of TM498>=TM798\")\n",
        "else:\n",
        "    print(\"Null Hypothesis reject,Age of TM498<TM798\")"
      ]
    },
    {
      "attachments": {},
      "cell_type": "markdown",
      "id": "8d963ebc",
      "metadata": {
        "id": "8d963ebc"
      },
      "source": [
        "### Hypothesis5:\n",
        "###### considering higher Income people uses TM798 than other products(so TM195<TM498, TM498<TM)\n",
        "case1-\n",
        "H0: TM195-TM498>=0;     \n",
        "H1: TM195-TM498<0\n",
        "\n",
        "case2-\n",
        "H0: TM498-TM798>=0;    \n",
        "H1: TM498-TM798<0"
      ]
    },
    {
      "cell_type": "code",
      "execution_count": 139,
      "id": "2904d6e6",
      "metadata": {
        "colab": {
          "base_uri": "https://localhost:8080/"
        },
        "id": "2904d6e6",
        "outputId": "e02c899c-7f09-45dc-ec7d-43007c89a00b"
      },
      "outputs": [
        {
          "data": {
            "text/plain": [
              "-11.104098651287941"
            ]
          },
          "execution_count": 139,
          "metadata": {},
          "output_type": "execute_result"
        }
      ],
      "source": [
        "z1=(TM195_Income_mean-TM498_Income_mean)/(((TM195_Income_std**2)+(TM498_Income_std**2))/50)**0.5\n",
        "z1"
      ]
    },
    {
      "cell_type": "code",
      "execution_count": 140,
      "id": "c1a7db46",
      "metadata": {
        "colab": {
          "base_uri": "https://localhost:8080/"
        },
        "id": "c1a7db46",
        "outputId": "9bbf1e96-e52b-4f26-c2e1-baded8dc96d9"
      },
      "outputs": [
        {
          "data": {
            "text/plain": [
              "5.991006505216504e-29"
            ]
          },
          "execution_count": 140,
          "metadata": {},
          "output_type": "execute_result"
        }
      ],
      "source": [
        "p_value = scipy.stats.norm.sf(abs(z1))\n",
        "p_value"
      ]
    },
    {
      "cell_type": "code",
      "execution_count": 141,
      "id": "ea16e0c6",
      "metadata": {
        "colab": {
          "base_uri": "https://localhost:8080/"
        },
        "id": "ea16e0c6",
        "outputId": "fc0346db-5f83-4c20-abc0-7f201d004faf"
      },
      "outputs": [
        {
          "name": "stdout",
          "output_type": "stream",
          "text": [
            "Null Hypothesis rejected,Age of TM195<TM498\n"
          ]
        }
      ],
      "source": [
        "if p_value>0.05:\n",
        "    print(\"Null Hypothesis accepted,Age of TM195>=TM498\")\n",
        "else:\n",
        "    print(\"Null Hypothesis rejected,Age of TM195<TM498\")"
      ]
    },
    {
      "cell_type": "code",
      "execution_count": 142,
      "id": "a6ccbda8",
      "metadata": {
        "colab": {
          "base_uri": "https://localhost:8080/"
        },
        "id": "a6ccbda8",
        "outputId": "f6dc7d59-735e-40dc-9cd4-46e31f2fd858"
      },
      "outputs": [
        {
          "data": {
            "text/plain": [
              "-101.26639927206358"
            ]
          },
          "execution_count": 142,
          "metadata": {},
          "output_type": "execute_result"
        }
      ],
      "source": [
        "z2=(TM498_Income_mean-TM798_Income_mean)/(((TM498_Income_std**2)+(TM798_Income_std**2))/50)**0.5\n",
        "z2"
      ]
    },
    {
      "cell_type": "code",
      "execution_count": 143,
      "id": "957f3ade",
      "metadata": {
        "colab": {
          "base_uri": "https://localhost:8080/"
        },
        "id": "957f3ade",
        "outputId": "c89cabf6-8b93-4c1e-97e8-70890c5a7ba5"
      },
      "outputs": [
        {
          "data": {
            "text/plain": [
              "0.0"
            ]
          },
          "execution_count": 143,
          "metadata": {},
          "output_type": "execute_result"
        }
      ],
      "source": [
        "p_value2 = scipy.stats.norm.sf(abs(z2))\n",
        "p_value2"
      ]
    },
    {
      "cell_type": "code",
      "execution_count": 144,
      "id": "7dbd8add",
      "metadata": {
        "colab": {
          "base_uri": "https://localhost:8080/"
        },
        "id": "7dbd8add",
        "outputId": "dddd1f7b-d39f-4bd4-e17a-de7319b62552"
      },
      "outputs": [
        {
          "name": "stdout",
          "output_type": "stream",
          "text": [
            "Null Hypothesis reject,Age of TM498<TM798\n"
          ]
        }
      ],
      "source": [
        "if  p_value2>0.05:\n",
        "    print(\"Null Hypothesis accepted,Age of TM498>=TM798\")\n",
        "else:\n",
        "    print(\"Null Hypothesis reject,Age of TM498<TM798\")"
      ]
    },
    {
      "attachments": {},
      "cell_type": "markdown",
      "id": "3d799a99",
      "metadata": {
        "id": "3d799a99"
      },
      "source": [
        "### Hypothesis6:\n",
        "###### considering higher Miles people uses TM798 than other products(so TM195<TM498, TM498<TM)\n",
        "case1-\n",
        "H0: TM195-TM498>=0;     \n",
        "H1: TM195-TM498<0\n",
        "\n",
        "case2-\n",
        "H0: TM498-TM798>=0;    \n",
        "H1: TM498-TM798<0"
      ]
    },
    {
      "cell_type": "code",
      "execution_count": 145,
      "id": "b3c6a574",
      "metadata": {
        "colab": {
          "base_uri": "https://localhost:8080/"
        },
        "id": "b3c6a574",
        "outputId": "0092503c-0bbf-4dd3-9853-724180d5d5df"
      },
      "outputs": [
        {
          "data": {
            "text/plain": [
              "-5.998491663865185"
            ]
          },
          "execution_count": 145,
          "metadata": {},
          "output_type": "execute_result"
        }
      ],
      "source": [
        "z1=(TM195_Miles_mean-TM498_Miles_mean)/(((TM195_Miles_std**2)+(TM498_Miles_std**2))/50)**0.5\n",
        "z1"
      ]
    },
    {
      "cell_type": "code",
      "execution_count": 146,
      "id": "76ba820d",
      "metadata": {
        "colab": {
          "base_uri": "https://localhost:8080/"
        },
        "id": "76ba820d",
        "outputId": "2d025e65-381c-4b24-ac32-11744f9a824a"
      },
      "outputs": [
        {
          "data": {
            "text/plain": [
              "9.957937098955375e-10"
            ]
          },
          "execution_count": 146,
          "metadata": {},
          "output_type": "execute_result"
        }
      ],
      "source": [
        "p_value = scipy.stats.norm.sf(abs(z1))\n",
        "p_value"
      ]
    },
    {
      "cell_type": "code",
      "execution_count": 147,
      "id": "bbd6c3a7",
      "metadata": {
        "colab": {
          "base_uri": "https://localhost:8080/"
        },
        "id": "bbd6c3a7",
        "outputId": "f17c4f6c-2220-43d8-b2d7-b0cb7d7d515b"
      },
      "outputs": [
        {
          "name": "stdout",
          "output_type": "stream",
          "text": [
            "Null Hypothesis rejected,Age of TM195<TM498\n"
          ]
        }
      ],
      "source": [
        "if p_value>0.05:\n",
        "    print(\"Null Hypothesis accepted,Age of TM195>=TM498\")\n",
        "else:\n",
        "    print(\"Null Hypothesis rejected,Age of TM195<TM498\")"
      ]
    },
    {
      "cell_type": "code",
      "execution_count": 148,
      "id": "fa8a6031",
      "metadata": {
        "colab": {
          "base_uri": "https://localhost:8080/"
        },
        "id": "fa8a6031",
        "outputId": "80340762-592f-4e41-9189-7cead35090a4"
      },
      "outputs": [
        {
          "data": {
            "text/plain": [
              "-66.51863196467654"
            ]
          },
          "execution_count": 148,
          "metadata": {},
          "output_type": "execute_result"
        }
      ],
      "source": [
        "z2=(TM498_Miles_mean-TM798_Miles_mean)/(((TM498_Miles_std**2)+(TM798_Miles_std**2))/50)**0.5\n",
        "z2"
      ]
    },
    {
      "cell_type": "code",
      "execution_count": 149,
      "id": "57a6821d",
      "metadata": {
        "colab": {
          "base_uri": "https://localhost:8080/"
        },
        "id": "57a6821d",
        "outputId": "a3becc30-3e7c-4b8f-e2d6-92dafc778266"
      },
      "outputs": [
        {
          "data": {
            "text/plain": [
              "0.0"
            ]
          },
          "execution_count": 149,
          "metadata": {},
          "output_type": "execute_result"
        }
      ],
      "source": [
        "p_value2 = scipy.stats.norm.sf(abs(z2))\n",
        "p_value2"
      ]
    },
    {
      "cell_type": "code",
      "execution_count": 150,
      "id": "e3318e3d",
      "metadata": {
        "colab": {
          "base_uri": "https://localhost:8080/"
        },
        "id": "e3318e3d",
        "outputId": "d10ae5bd-6e5e-4c29-e1f7-e7e8882d22f4"
      },
      "outputs": [
        {
          "name": "stdout",
          "output_type": "stream",
          "text": [
            "Null Hypothesis reject,Age of TM498<TM798\n"
          ]
        }
      ],
      "source": [
        "if  p_value2>0.05:\n",
        "    print(\"Null Hypothesis accepted,Age of TM498>=TM798\")\n",
        "else:\n",
        "    print(\"Null Hypothesis reject,Age of TM498<TM798\")"
      ]
    },
    {
      "cell_type": "code",
      "execution_count": 150,
      "id": "927a4259",
      "metadata": {
        "id": "927a4259"
      },
      "outputs": [],
      "source": []
    }
  ],
  "metadata": {
    "colab": {
      "provenance": []
    },
    "kernelspec": {
      "display_name": "Python 3 (ipykernel)",
      "language": "python",
      "name": "python3"
    },
    "language_info": {
      "codemirror_mode": {
        "name": "ipython",
        "version": 3
      },
      "file_extension": ".py",
      "mimetype": "text/x-python",
      "name": "python",
      "nbconvert_exporter": "python",
      "pygments_lexer": "ipython3",
      "version": "3.9.12"
    }
  },
  "nbformat": 4,
  "nbformat_minor": 5
}
